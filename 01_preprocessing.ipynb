{
 "cells": [
  {
   "cell_type": "markdown",
   "metadata": {},
   "source": [
    "# Analyzing borrowers’ risk of defaulting\n",
    "\n",
    "Your project is to prepare a report for a bank’s loan division. You’ll need to find out if a customer’s marital status and number of children has an impact on whether they will default on a loan. The bank already has some data on customers’ credit worthiness.\n",
    "\n",
    "Your report will be considered when building a **credit scoring** of a potential customer. A **credit scoring** is used to evaluate the ability of a potential borrower to repay their loan."
   ]
  },
  {
   "cell_type": "markdown",
   "metadata": {},
   "source": [
    "## Open the data file and have a look at the general information. "
   ]
  },
  {
   "cell_type": "code",
   "execution_count": 1,
   "metadata": {
    "scrolled": true
   },
   "outputs": [],
   "source": [
    "import pandas as pd\n",
    "import nltk\n",
    "from nltk.stem import WordNetLemmatizer"
   ]
  },
  {
   "cell_type": "code",
   "execution_count": 2,
   "metadata": {},
   "outputs": [
    {
     "name": "stdout",
     "output_type": "stream",
     "text": [
      "<class 'pandas.core.frame.DataFrame'>\n",
      "RangeIndex: 21525 entries, 0 to 21524\n",
      "Data columns (total 12 columns):\n",
      " #   Column            Non-Null Count  Dtype  \n",
      "---  ------            --------------  -----  \n",
      " 0   children          21525 non-null  int64  \n",
      " 1   days_employed     19351 non-null  float64\n",
      " 2   dob_years         21525 non-null  int64  \n",
      " 3   education         21525 non-null  object \n",
      " 4   education_id      21525 non-null  int64  \n",
      " 5   family_status     21525 non-null  object \n",
      " 6   family_status_id  21525 non-null  int64  \n",
      " 7   gender            21525 non-null  object \n",
      " 8   income_type       21525 non-null  object \n",
      " 9   debt              21525 non-null  int64  \n",
      " 10  total_income      19351 non-null  float64\n",
      " 11  purpose           21525 non-null  object \n",
      "dtypes: float64(2), int64(5), object(5)\n",
      "memory usage: 2.0+ MB\n"
     ]
    }
   ],
   "source": [
    "scoring = pd.read_csv('../../datasets/credit_scoring_eng.csv')\n",
    "scoring.info()"
   ]
  },
  {
   "cell_type": "code",
   "execution_count": 3,
   "metadata": {},
   "outputs": [
    {
     "data": {
      "text/html": [
       "<div>\n",
       "<style scoped>\n",
       "    .dataframe tbody tr th:only-of-type {\n",
       "        vertical-align: middle;\n",
       "    }\n",
       "\n",
       "    .dataframe tbody tr th {\n",
       "        vertical-align: top;\n",
       "    }\n",
       "\n",
       "    .dataframe thead th {\n",
       "        text-align: right;\n",
       "    }\n",
       "</style>\n",
       "<table border=\"1\" class=\"dataframe\">\n",
       "  <thead>\n",
       "    <tr style=\"text-align: right;\">\n",
       "      <th></th>\n",
       "      <th>children</th>\n",
       "      <th>days_employed</th>\n",
       "      <th>dob_years</th>\n",
       "      <th>education_id</th>\n",
       "      <th>family_status_id</th>\n",
       "      <th>debt</th>\n",
       "      <th>total_income</th>\n",
       "    </tr>\n",
       "  </thead>\n",
       "  <tbody>\n",
       "    <tr>\n",
       "      <th>count</th>\n",
       "      <td>21525.000000</td>\n",
       "      <td>19351.000000</td>\n",
       "      <td>21525.000000</td>\n",
       "      <td>21525.000000</td>\n",
       "      <td>21525.000000</td>\n",
       "      <td>21525.000000</td>\n",
       "      <td>19351.000000</td>\n",
       "    </tr>\n",
       "    <tr>\n",
       "      <th>mean</th>\n",
       "      <td>0.538908</td>\n",
       "      <td>63046.497661</td>\n",
       "      <td>43.293380</td>\n",
       "      <td>0.817236</td>\n",
       "      <td>0.972544</td>\n",
       "      <td>0.080883</td>\n",
       "      <td>26787.568355</td>\n",
       "    </tr>\n",
       "    <tr>\n",
       "      <th>std</th>\n",
       "      <td>1.381587</td>\n",
       "      <td>140827.311974</td>\n",
       "      <td>12.574584</td>\n",
       "      <td>0.548138</td>\n",
       "      <td>1.420324</td>\n",
       "      <td>0.272661</td>\n",
       "      <td>16475.450632</td>\n",
       "    </tr>\n",
       "    <tr>\n",
       "      <th>min</th>\n",
       "      <td>-1.000000</td>\n",
       "      <td>-18388.949901</td>\n",
       "      <td>0.000000</td>\n",
       "      <td>0.000000</td>\n",
       "      <td>0.000000</td>\n",
       "      <td>0.000000</td>\n",
       "      <td>3306.762000</td>\n",
       "    </tr>\n",
       "    <tr>\n",
       "      <th>25%</th>\n",
       "      <td>0.000000</td>\n",
       "      <td>-2747.423625</td>\n",
       "      <td>33.000000</td>\n",
       "      <td>1.000000</td>\n",
       "      <td>0.000000</td>\n",
       "      <td>0.000000</td>\n",
       "      <td>16488.504500</td>\n",
       "    </tr>\n",
       "    <tr>\n",
       "      <th>50%</th>\n",
       "      <td>0.000000</td>\n",
       "      <td>-1203.369529</td>\n",
       "      <td>42.000000</td>\n",
       "      <td>1.000000</td>\n",
       "      <td>0.000000</td>\n",
       "      <td>0.000000</td>\n",
       "      <td>23202.870000</td>\n",
       "    </tr>\n",
       "    <tr>\n",
       "      <th>75%</th>\n",
       "      <td>1.000000</td>\n",
       "      <td>-291.095954</td>\n",
       "      <td>53.000000</td>\n",
       "      <td>1.000000</td>\n",
       "      <td>1.000000</td>\n",
       "      <td>0.000000</td>\n",
       "      <td>32549.611000</td>\n",
       "    </tr>\n",
       "    <tr>\n",
       "      <th>max</th>\n",
       "      <td>20.000000</td>\n",
       "      <td>401755.400475</td>\n",
       "      <td>75.000000</td>\n",
       "      <td>4.000000</td>\n",
       "      <td>4.000000</td>\n",
       "      <td>1.000000</td>\n",
       "      <td>362496.645000</td>\n",
       "    </tr>\n",
       "  </tbody>\n",
       "</table>\n",
       "</div>"
      ],
      "text/plain": [
       "           children  days_employed     dob_years  education_id  \\\n",
       "count  21525.000000   19351.000000  21525.000000  21525.000000   \n",
       "mean       0.538908   63046.497661     43.293380      0.817236   \n",
       "std        1.381587  140827.311974     12.574584      0.548138   \n",
       "min       -1.000000  -18388.949901      0.000000      0.000000   \n",
       "25%        0.000000   -2747.423625     33.000000      1.000000   \n",
       "50%        0.000000   -1203.369529     42.000000      1.000000   \n",
       "75%        1.000000    -291.095954     53.000000      1.000000   \n",
       "max       20.000000  401755.400475     75.000000      4.000000   \n",
       "\n",
       "       family_status_id          debt   total_income  \n",
       "count      21525.000000  21525.000000   19351.000000  \n",
       "mean           0.972544      0.080883   26787.568355  \n",
       "std            1.420324      0.272661   16475.450632  \n",
       "min            0.000000      0.000000    3306.762000  \n",
       "25%            0.000000      0.000000   16488.504500  \n",
       "50%            0.000000      0.000000   23202.870000  \n",
       "75%            1.000000      0.000000   32549.611000  \n",
       "max            4.000000      1.000000  362496.645000  "
      ]
     },
     "execution_count": 3,
     "metadata": {},
     "output_type": "execute_result"
    }
   ],
   "source": [
    "scoring.describe()"
   ]
  },
  {
   "cell_type": "code",
   "execution_count": 4,
   "metadata": {},
   "outputs": [
    {
     "data": {
      "text/html": [
       "<div>\n",
       "<style scoped>\n",
       "    .dataframe tbody tr th:only-of-type {\n",
       "        vertical-align: middle;\n",
       "    }\n",
       "\n",
       "    .dataframe tbody tr th {\n",
       "        vertical-align: top;\n",
       "    }\n",
       "\n",
       "    .dataframe thead th {\n",
       "        text-align: right;\n",
       "    }\n",
       "</style>\n",
       "<table border=\"1\" class=\"dataframe\">\n",
       "  <thead>\n",
       "    <tr style=\"text-align: right;\">\n",
       "      <th></th>\n",
       "      <th>children</th>\n",
       "      <th>days_employed</th>\n",
       "      <th>dob_years</th>\n",
       "      <th>education</th>\n",
       "      <th>education_id</th>\n",
       "      <th>family_status</th>\n",
       "      <th>family_status_id</th>\n",
       "      <th>gender</th>\n",
       "      <th>income_type</th>\n",
       "      <th>debt</th>\n",
       "      <th>total_income</th>\n",
       "      <th>purpose</th>\n",
       "    </tr>\n",
       "  </thead>\n",
       "  <tbody>\n",
       "    <tr>\n",
       "      <th>0</th>\n",
       "      <td>1</td>\n",
       "      <td>-8437.673028</td>\n",
       "      <td>42</td>\n",
       "      <td>bachelor's degree</td>\n",
       "      <td>0</td>\n",
       "      <td>married</td>\n",
       "      <td>0</td>\n",
       "      <td>F</td>\n",
       "      <td>employee</td>\n",
       "      <td>0</td>\n",
       "      <td>40620.102</td>\n",
       "      <td>purchase of the house</td>\n",
       "    </tr>\n",
       "    <tr>\n",
       "      <th>1</th>\n",
       "      <td>1</td>\n",
       "      <td>-4024.803754</td>\n",
       "      <td>36</td>\n",
       "      <td>secondary education</td>\n",
       "      <td>1</td>\n",
       "      <td>married</td>\n",
       "      <td>0</td>\n",
       "      <td>F</td>\n",
       "      <td>employee</td>\n",
       "      <td>0</td>\n",
       "      <td>17932.802</td>\n",
       "      <td>car purchase</td>\n",
       "    </tr>\n",
       "    <tr>\n",
       "      <th>2</th>\n",
       "      <td>0</td>\n",
       "      <td>-5623.422610</td>\n",
       "      <td>33</td>\n",
       "      <td>Secondary Education</td>\n",
       "      <td>1</td>\n",
       "      <td>married</td>\n",
       "      <td>0</td>\n",
       "      <td>M</td>\n",
       "      <td>employee</td>\n",
       "      <td>0</td>\n",
       "      <td>23341.752</td>\n",
       "      <td>purchase of the house</td>\n",
       "    </tr>\n",
       "    <tr>\n",
       "      <th>3</th>\n",
       "      <td>3</td>\n",
       "      <td>-4124.747207</td>\n",
       "      <td>32</td>\n",
       "      <td>secondary education</td>\n",
       "      <td>1</td>\n",
       "      <td>married</td>\n",
       "      <td>0</td>\n",
       "      <td>M</td>\n",
       "      <td>employee</td>\n",
       "      <td>0</td>\n",
       "      <td>42820.568</td>\n",
       "      <td>supplementary education</td>\n",
       "    </tr>\n",
       "    <tr>\n",
       "      <th>4</th>\n",
       "      <td>0</td>\n",
       "      <td>340266.072047</td>\n",
       "      <td>53</td>\n",
       "      <td>secondary education</td>\n",
       "      <td>1</td>\n",
       "      <td>civil partnership</td>\n",
       "      <td>1</td>\n",
       "      <td>F</td>\n",
       "      <td>retiree</td>\n",
       "      <td>0</td>\n",
       "      <td>25378.572</td>\n",
       "      <td>to have a wedding</td>\n",
       "    </tr>\n",
       "  </tbody>\n",
       "</table>\n",
       "</div>"
      ],
      "text/plain": [
       "   children  days_employed  dob_years            education  education_id  \\\n",
       "0         1   -8437.673028         42    bachelor's degree             0   \n",
       "1         1   -4024.803754         36  secondary education             1   \n",
       "2         0   -5623.422610         33  Secondary Education             1   \n",
       "3         3   -4124.747207         32  secondary education             1   \n",
       "4         0  340266.072047         53  secondary education             1   \n",
       "\n",
       "       family_status  family_status_id gender income_type  debt  total_income  \\\n",
       "0            married                 0      F    employee     0     40620.102   \n",
       "1            married                 0      F    employee     0     17932.802   \n",
       "2            married                 0      M    employee     0     23341.752   \n",
       "3            married                 0      M    employee     0     42820.568   \n",
       "4  civil partnership                 1      F     retiree     0     25378.572   \n",
       "\n",
       "                   purpose  \n",
       "0    purchase of the house  \n",
       "1             car purchase  \n",
       "2    purchase of the house  \n",
       "3  supplementary education  \n",
       "4        to have a wedding  "
      ]
     },
     "metadata": {},
     "output_type": "display_data"
    }
   ],
   "source": [
    "display(scoring.head())"
   ]
  },
  {
   "cell_type": "markdown",
   "metadata": {},
   "source": [
    "### Conclusion"
   ]
  },
  {
   "cell_type": "markdown",
   "metadata": {},
   "source": [
    "We have missing values in columns 'days_employed' and 'total_income'. Also, it looks like there are some artifacts in 'days_employed'. Finally, values in 'education' and 'purpose' columns need to be unified."
   ]
  },
  {
   "cell_type": "markdown",
   "metadata": {},
   "source": [
    "## Data preprocessing"
   ]
  },
  {
   "cell_type": "markdown",
   "metadata": {},
   "source": [
    "### Processing missing values"
   ]
  },
  {
   "cell_type": "code",
   "execution_count": 5,
   "metadata": {},
   "outputs": [],
   "source": [
    "# -1 and 20 'children' are faulty values without any apparent pattern. \n",
    "# We have 47 and 76 such values, respectively (0.2 and 0.3 percent of the dataset).\n",
    "# Let's change them to a mode value that is zero.\n",
    "scoring.loc[scoring['children'] == -1, 'children'] = 0\n",
    "scoring.loc[scoring['children'] == 20, 'children'] = 0"
   ]
  },
  {
   "cell_type": "code",
   "execution_count": 6,
   "metadata": {},
   "outputs": [],
   "source": [
    "# 'days_employed' has missing values, and other values don't make much sense. \n",
    "# They are either negative or too large to be days (more than 900 years).\n",
    "# Since this column has no connection to our questions, we could leave it as it is, \n",
    "# but consider notifying the person in charge of exporting the data."
   ]
  },
  {
   "cell_type": "code",
   "execution_count": 7,
   "metadata": {},
   "outputs": [],
   "source": [
    "# We have 101 zero values in 'dob_years' (0.4%). \n",
    "# Let's fill it with the mean (which is pretty close to the median here)\n",
    "\n",
    "scoring.loc[scoring['dob_years'] == 0, 'dob_years'] = scoring['dob_years'].mean()"
   ]
  },
  {
   "cell_type": "code",
   "execution_count": 8,
   "metadata": {},
   "outputs": [],
   "source": [
    "# The 'gender' column looks a bit strange.\n",
    "# We have only one nonbinary value there, \n",
    "# while there should be at least 0.2-0.4% (43-86 minimum for this dataset).\n",
    "# And this value is not nb or other, rather XNA.\n",
    "# Let's drop it for now, but we need to check if our processes are inclusive.\n",
    "\n",
    "scoring = scoring.drop(scoring[scoring['gender'] == 'XNA'].index).reset_index(drop=True)"
   ]
  },
  {
   "cell_type": "code",
   "execution_count": 9,
   "metadata": {},
   "outputs": [],
   "source": [
    "# There are missing values in the 'total_income'.\n",
    "# They correspond to the missing ones in 'days_employed', which we left untouched.\n",
    "# But these are crucial for our analysis. \n",
    "# So let's fill them with median according to 'income_type' and 'education_id'.\n",
    "\n",
    "scoring['total_income_cleaned'] = scoring['total_income'].fillna(\n",
    "                            scoring.groupby(['income_type','education_id'])['total_income'].transform('median')\n",
    "                            )"
   ]
  },
  {
   "cell_type": "markdown",
   "metadata": {},
   "source": [
    "### Conclusion"
   ]
  },
  {
   "cell_type": "markdown",
   "metadata": {},
   "source": [
    "Our dataset has 10% missing values in the 'total_income' column, which is essential for answering our questions. They are missing across all income types and other parameters without any visible pattern. So I filled them in a separate column with a median value for corresponding 'income_type'.\n",
    "\n",
    "Also, for the same rows 'days_employed' value is missing, which I left as it is. All other values in this column don't look like days of employment also. They are either negative but close in absolute values to what could be reality. Or they are enormous for \"retiree\" and \"unemployed\" 'income_type's. We need to discuss the export of this column with data engineers.\n",
    "\n",
    "Then there were 0.4% zero values in 'dob_years', which I filled with a mean value.\n",
    "\n",
    "And finally, I found a small number of artifacts in 'children' (filled with mode) and 'gender' (dropped this one row)."
   ]
  },
  {
   "cell_type": "markdown",
   "metadata": {},
   "source": [
    "### Data type replacement"
   ]
  },
  {
   "cell_type": "code",
   "execution_count": 10,
   "metadata": {},
   "outputs": [],
   "source": [
    "scoring['dob_years'] = scoring['dob_years'].astype('int')\n",
    "scoring['total_income_cleaned'] = scoring['total_income_cleaned'].astype('int')"
   ]
  },
  {
   "cell_type": "markdown",
   "metadata": {},
   "source": [
    "### Conclusion"
   ]
  },
  {
   "cell_type": "markdown",
   "metadata": {},
   "source": [
    "Here I converted 'dob_years' and 'filled_income' to int64 using Series.astype() method. 'days_employed' and 'total_income' left float since I won't use them later."
   ]
  },
  {
   "cell_type": "markdown",
   "metadata": {},
   "source": [
    "### Processing duplicates"
   ]
  },
  {
   "cell_type": "code",
   "execution_count": 11,
   "metadata": {},
   "outputs": [],
   "source": [
    "#scoring.duplicated().sum()/len(scoring)\n",
    "scoring = scoring.drop_duplicates().reset_index(drop=True)"
   ]
  },
  {
   "cell_type": "markdown",
   "metadata": {},
   "source": [
    "### Conclusion"
   ]
  },
  {
   "cell_type": "markdown",
   "metadata": {},
   "source": [
    "We have 0.25% of duplicated rows. It doesn't look like there is any pattern in them, deleted with the drop_duplicates method."
   ]
  },
  {
   "cell_type": "markdown",
   "metadata": {},
   "source": [
    "### Categorizing Data"
   ]
  },
  {
   "cell_type": "code",
   "execution_count": 12,
   "metadata": {},
   "outputs": [],
   "source": [
    "# tidying up 'education' by making it lowercase\n",
    "\n",
    "scoring['education'] = scoring['education'].str.lower()"
   ]
  },
  {
   "cell_type": "code",
   "execution_count": 13,
   "metadata": {},
   "outputs": [],
   "source": [
    "# 'purpose' column has a lot of different values, which we could group into four categories: \n",
    "# wedding, property, buying a car, and getting an education.\n",
    "wordnet_lemma = WordNetLemmatizer()\n",
    "wedding_categ = ['wedding']\n",
    "housing_categ = ['estate', 'housing', 'house', 'property']\n",
    "car_categ = ['car']\n",
    "education_categ = ['education', 'educated', 'university']\n",
    "\n",
    "def lemmatization(s):\n",
    "    words = nltk.word_tokenize(s.lower())\n",
    "    lemmas = [wordnet_lemma.lemmatize(w) for w in words]\n",
    "    if any(word in lemmas for word in wedding_categ):\n",
    "        return 'wedding'\n",
    "    elif any(word in lemmas for word in housing_categ):\n",
    "        return 'property'\n",
    "    elif any(word in lemmas for word in car_categ):\n",
    "        return 'car'\n",
    "    elif any(word in lemmas for word in education_categ):\n",
    "        return 'education'\n",
    "    else:\n",
    "        return 'other'\n",
    "    \n",
    "scoring['purpose_cleaned']=scoring['purpose'].apply(lemmatization)    "
   ]
  },
  {
   "cell_type": "code",
   "execution_count": 14,
   "metadata": {},
   "outputs": [],
   "source": [
    "# To answer a question about the relation of income to repaying a loan, \n",
    "# we need to split 'income_level' into several categories. \n",
    "# For example, it could be done by quartiles. \n",
    "\n",
    "qlabels = ['low', 'low medium', 'high medium', 'hight']\n",
    "scoring['income_level'] = pd.qcut(scoring['total_income_cleaned'], q=4, labels=qlabels)"
   ]
  },
  {
   "cell_type": "markdown",
   "metadata": {},
   "source": [
    "### Conclusion"
   ]
  },
  {
   "cell_type": "markdown",
   "metadata": {},
   "source": [
    "I introduced an 'income_level ' category based on 'total_income_cleaned' and made a proper dictionary from the 'purpose' column. "
   ]
  },
  {
   "cell_type": "markdown",
   "metadata": {},
   "source": [
    "## Answer these questions"
   ]
  },
  {
   "cell_type": "markdown",
   "metadata": {},
   "source": [
    "### Is there a relation between having kids and repaying a loan on time?"
   ]
  },
  {
   "cell_type": "code",
   "execution_count": 15,
   "metadata": {},
   "outputs": [
    {
     "data": {
      "text/html": [
       "<div>\n",
       "<style scoped>\n",
       "    .dataframe tbody tr th:only-of-type {\n",
       "        vertical-align: middle;\n",
       "    }\n",
       "\n",
       "    .dataframe tbody tr th {\n",
       "        vertical-align: top;\n",
       "    }\n",
       "\n",
       "    .dataframe thead tr th {\n",
       "        text-align: left;\n",
       "    }\n",
       "\n",
       "    .dataframe thead tr:last-of-type th {\n",
       "        text-align: right;\n",
       "    }\n",
       "</style>\n",
       "<table border=\"1\" class=\"dataframe\">\n",
       "  <thead>\n",
       "    <tr>\n",
       "      <th></th>\n",
       "      <th>sum</th>\n",
       "      <th>count</th>\n",
       "      <th>default_rate</th>\n",
       "    </tr>\n",
       "    <tr>\n",
       "      <th></th>\n",
       "      <th>debt</th>\n",
       "      <th>debt</th>\n",
       "      <th></th>\n",
       "    </tr>\n",
       "    <tr>\n",
       "      <th>children</th>\n",
       "      <th></th>\n",
       "      <th></th>\n",
       "      <th></th>\n",
       "    </tr>\n",
       "  </thead>\n",
       "  <tbody>\n",
       "    <tr>\n",
       "      <th>5</th>\n",
       "      <td>0</td>\n",
       "      <td>9</td>\n",
       "      <td>0.000000</td>\n",
       "    </tr>\n",
       "    <tr>\n",
       "      <th>0</th>\n",
       "      <td>1072</td>\n",
       "      <td>14229</td>\n",
       "      <td>7.533910</td>\n",
       "    </tr>\n",
       "    <tr>\n",
       "      <th>3</th>\n",
       "      <td>27</td>\n",
       "      <td>330</td>\n",
       "      <td>8.181818</td>\n",
       "    </tr>\n",
       "    <tr>\n",
       "      <th>1</th>\n",
       "      <td>444</td>\n",
       "      <td>4809</td>\n",
       "      <td>9.232689</td>\n",
       "    </tr>\n",
       "    <tr>\n",
       "      <th>2</th>\n",
       "      <td>194</td>\n",
       "      <td>2052</td>\n",
       "      <td>9.454191</td>\n",
       "    </tr>\n",
       "    <tr>\n",
       "      <th>4</th>\n",
       "      <td>4</td>\n",
       "      <td>41</td>\n",
       "      <td>9.756098</td>\n",
       "    </tr>\n",
       "  </tbody>\n",
       "</table>\n",
       "</div>"
      ],
      "text/plain": [
       "           sum  count default_rate\n",
       "          debt   debt             \n",
       "children                          \n",
       "5            0      9     0.000000\n",
       "0         1072  14229     7.533910\n",
       "3           27    330     8.181818\n",
       "1          444   4809     9.232689\n",
       "2          194   2052     9.454191\n",
       "4            4     41     9.756098"
      ]
     },
     "execution_count": 15,
     "metadata": {},
     "output_type": "execute_result"
    }
   ],
   "source": [
    "children=pd.pivot_table(scoring, index='children', \n",
    "                             values='debt', aggfunc=['sum', 'count'])\n",
    "children['default_rate']=(children['sum']/children['count'])*100\n",
    "children.sort_values('default_rate')"
   ]
  },
  {
   "cell_type": "markdown",
   "metadata": {},
   "source": [
    "### Conclusion"
   ]
  },
  {
   "cell_type": "markdown",
   "metadata": {},
   "source": [
    "We have zero defaults in people with five kids, but we can't conclude they are the best borrowers since we have only nine such data points. Childless people have the lowest default rates (7.5%), and among others, there is no correlation, all rates between 8.2% (3 kids) and 9.6% (4 kids)."
   ]
  },
  {
   "cell_type": "markdown",
   "metadata": {},
   "source": [
    "### Is there a relation between marital status and repaying a loan on time?"
   ]
  },
  {
   "cell_type": "code",
   "execution_count": 16,
   "metadata": {},
   "outputs": [
    {
     "data": {
      "text/html": [
       "<div>\n",
       "<style scoped>\n",
       "    .dataframe tbody tr th:only-of-type {\n",
       "        vertical-align: middle;\n",
       "    }\n",
       "\n",
       "    .dataframe tbody tr th {\n",
       "        vertical-align: top;\n",
       "    }\n",
       "\n",
       "    .dataframe thead tr th {\n",
       "        text-align: left;\n",
       "    }\n",
       "\n",
       "    .dataframe thead tr:last-of-type th {\n",
       "        text-align: right;\n",
       "    }\n",
       "</style>\n",
       "<table border=\"1\" class=\"dataframe\">\n",
       "  <thead>\n",
       "    <tr>\n",
       "      <th></th>\n",
       "      <th>sum</th>\n",
       "      <th>count</th>\n",
       "      <th>default_rate</th>\n",
       "    </tr>\n",
       "    <tr>\n",
       "      <th></th>\n",
       "      <th>debt</th>\n",
       "      <th>debt</th>\n",
       "      <th></th>\n",
       "    </tr>\n",
       "    <tr>\n",
       "      <th>family_status</th>\n",
       "      <th></th>\n",
       "      <th></th>\n",
       "      <th></th>\n",
       "    </tr>\n",
       "  </thead>\n",
       "  <tbody>\n",
       "    <tr>\n",
       "      <th>widow / widower</th>\n",
       "      <td>63</td>\n",
       "      <td>959</td>\n",
       "      <td>6.569343</td>\n",
       "    </tr>\n",
       "    <tr>\n",
       "      <th>divorced</th>\n",
       "      <td>85</td>\n",
       "      <td>1195</td>\n",
       "      <td>7.112971</td>\n",
       "    </tr>\n",
       "    <tr>\n",
       "      <th>married</th>\n",
       "      <td>931</td>\n",
       "      <td>12344</td>\n",
       "      <td>7.542126</td>\n",
       "    </tr>\n",
       "    <tr>\n",
       "      <th>civil partnership</th>\n",
       "      <td>388</td>\n",
       "      <td>4162</td>\n",
       "      <td>9.322441</td>\n",
       "    </tr>\n",
       "    <tr>\n",
       "      <th>unmarried</th>\n",
       "      <td>274</td>\n",
       "      <td>2810</td>\n",
       "      <td>9.750890</td>\n",
       "    </tr>\n",
       "  </tbody>\n",
       "</table>\n",
       "</div>"
      ],
      "text/plain": [
       "                   sum  count default_rate\n",
       "                  debt   debt             \n",
       "family_status                             \n",
       "widow / widower     63    959     6.569343\n",
       "divorced            85   1195     7.112971\n",
       "married            931  12344     7.542126\n",
       "civil partnership  388   4162     9.322441\n",
       "unmarried          274   2810     9.750890"
      ]
     },
     "execution_count": 16,
     "metadata": {},
     "output_type": "execute_result"
    }
   ],
   "source": [
    "family_status=pd.pivot_table(scoring, index='family_status', \n",
    "                             values='debt', aggfunc=['sum', 'count'])\n",
    "family_status['default_rate']=(family_status['sum']/family_status['count'])*100\n",
    "family_status.sort_values('default_rate')"
   ]
  },
  {
   "cell_type": "code",
   "execution_count": 17,
   "metadata": {
    "scrolled": true
   },
   "outputs": [
    {
     "data": {
      "text/html": [
       "<div>\n",
       "<style scoped>\n",
       "    .dataframe tbody tr th:only-of-type {\n",
       "        vertical-align: middle;\n",
       "    }\n",
       "\n",
       "    .dataframe tbody tr th {\n",
       "        vertical-align: top;\n",
       "    }\n",
       "\n",
       "    .dataframe thead tr th {\n",
       "        text-align: left;\n",
       "    }\n",
       "\n",
       "    .dataframe thead tr:last-of-type th {\n",
       "        text-align: right;\n",
       "    }\n",
       "</style>\n",
       "<table border=\"1\" class=\"dataframe\">\n",
       "  <thead>\n",
       "    <tr>\n",
       "      <th></th>\n",
       "      <th>sum</th>\n",
       "      <th>count</th>\n",
       "      <th>default_rate</th>\n",
       "    </tr>\n",
       "    <tr>\n",
       "      <th></th>\n",
       "      <th>debt</th>\n",
       "      <th>debt</th>\n",
       "      <th></th>\n",
       "    </tr>\n",
       "    <tr>\n",
       "      <th>age_group</th>\n",
       "      <th></th>\n",
       "      <th></th>\n",
       "      <th></th>\n",
       "    </tr>\n",
       "  </thead>\n",
       "  <tbody>\n",
       "    <tr>\n",
       "      <th>60+</th>\n",
       "      <td>123</td>\n",
       "      <td>2506</td>\n",
       "      <td>4.908220</td>\n",
       "    </tr>\n",
       "    <tr>\n",
       "      <th>50-59</th>\n",
       "      <td>305</td>\n",
       "      <td>4662</td>\n",
       "      <td>6.542257</td>\n",
       "    </tr>\n",
       "    <tr>\n",
       "      <th>40-49</th>\n",
       "      <td>412</td>\n",
       "      <td>5459</td>\n",
       "      <td>7.547170</td>\n",
       "    </tr>\n",
       "    <tr>\n",
       "      <th>30-39</th>\n",
       "      <td>552</td>\n",
       "      <td>5663</td>\n",
       "      <td>9.747484</td>\n",
       "    </tr>\n",
       "    <tr>\n",
       "      <th>19-29</th>\n",
       "      <td>349</td>\n",
       "      <td>3180</td>\n",
       "      <td>10.974843</td>\n",
       "    </tr>\n",
       "  </tbody>\n",
       "</table>\n",
       "</div>"
      ],
      "text/plain": [
       "           sum count default_rate\n",
       "          debt  debt             \n",
       "age_group                        \n",
       "60+        123  2506     4.908220\n",
       "50-59      305  4662     6.542257\n",
       "40-49      412  5459     7.547170\n",
       "30-39      552  5663     9.747484\n",
       "19-29      349  3180    10.974843"
      ]
     },
     "execution_count": 17,
     "metadata": {},
     "output_type": "execute_result"
    }
   ],
   "source": [
    "def age_grouping(age):\n",
    "    if age < 30:\n",
    "        return '19-29'\n",
    "    elif age < 40:\n",
    "        return '30-39'\n",
    "    elif age < 50:\n",
    "        return '40-49'\n",
    "    elif age < 60:\n",
    "        return '50-59'\n",
    "    else:\n",
    "        return '60+'\n",
    "\n",
    "scoring['age_group'] = scoring['dob_years'].apply(age_grouping)\n",
    "\n",
    "age_group=pd.pivot_table(scoring, index='age_group', \n",
    "                             values='debt', aggfunc=['sum', 'count'])\n",
    "age_group['default_rate']=(age_group['sum']/age_group['count'])*100\n",
    "age_group.sort_values('default_rate')"
   ]
  },
  {
   "cell_type": "code",
   "execution_count": 18,
   "metadata": {},
   "outputs": [
    {
     "data": {
      "text/html": [
       "<div>\n",
       "<style scoped>\n",
       "    .dataframe tbody tr th:only-of-type {\n",
       "        vertical-align: middle;\n",
       "    }\n",
       "\n",
       "    .dataframe tbody tr th {\n",
       "        vertical-align: top;\n",
       "    }\n",
       "\n",
       "    .dataframe thead tr th {\n",
       "        text-align: left;\n",
       "    }\n",
       "\n",
       "    .dataframe thead tr:last-of-type th {\n",
       "        text-align: right;\n",
       "    }\n",
       "</style>\n",
       "<table border=\"1\" class=\"dataframe\">\n",
       "  <thead>\n",
       "    <tr>\n",
       "      <th></th>\n",
       "      <th></th>\n",
       "      <th>sum</th>\n",
       "      <th>count</th>\n",
       "      <th>default_rate</th>\n",
       "    </tr>\n",
       "    <tr>\n",
       "      <th></th>\n",
       "      <th></th>\n",
       "      <th>debt</th>\n",
       "      <th>debt</th>\n",
       "      <th></th>\n",
       "    </tr>\n",
       "    <tr>\n",
       "      <th>age_group</th>\n",
       "      <th>family_status</th>\n",
       "      <th></th>\n",
       "      <th></th>\n",
       "      <th></th>\n",
       "    </tr>\n",
       "  </thead>\n",
       "  <tbody>\n",
       "    <tr>\n",
       "      <th>19-29</th>\n",
       "      <th>widow / widower</th>\n",
       "      <td>0</td>\n",
       "      <td>2</td>\n",
       "      <td>0.000000</td>\n",
       "    </tr>\n",
       "    <tr>\n",
       "      <th rowspan=\"3\" valign=\"top\">60+</th>\n",
       "      <th>unmarried</th>\n",
       "      <td>9</td>\n",
       "      <td>240</td>\n",
       "      <td>3.750000</td>\n",
       "    </tr>\n",
       "    <tr>\n",
       "      <th>married</th>\n",
       "      <td>58</td>\n",
       "      <td>1310</td>\n",
       "      <td>4.427481</td>\n",
       "    </tr>\n",
       "    <tr>\n",
       "      <th>civil partnership</th>\n",
       "      <td>18</td>\n",
       "      <td>399</td>\n",
       "      <td>4.511278</td>\n",
       "    </tr>\n",
       "    <tr>\n",
       "      <th>40-49</th>\n",
       "      <th>divorced</th>\n",
       "      <td>21</td>\n",
       "      <td>380</td>\n",
       "      <td>5.526316</td>\n",
       "    </tr>\n",
       "    <tr>\n",
       "      <th rowspan=\"3\" valign=\"top\">50-59</th>\n",
       "      <th>widow / widower</th>\n",
       "      <td>21</td>\n",
       "      <td>376</td>\n",
       "      <td>5.585106</td>\n",
       "    </tr>\n",
       "    <tr>\n",
       "      <th>married</th>\n",
       "      <td>168</td>\n",
       "      <td>2765</td>\n",
       "      <td>6.075949</td>\n",
       "    </tr>\n",
       "    <tr>\n",
       "      <th>divorced</th>\n",
       "      <td>19</td>\n",
       "      <td>303</td>\n",
       "      <td>6.270627</td>\n",
       "    </tr>\n",
       "    <tr>\n",
       "      <th rowspan=\"2\" valign=\"top\">60+</th>\n",
       "      <th>widow / widower</th>\n",
       "      <td>27</td>\n",
       "      <td>402</td>\n",
       "      <td>6.716418</td>\n",
       "    </tr>\n",
       "    <tr>\n",
       "      <th>divorced</th>\n",
       "      <td>11</td>\n",
       "      <td>155</td>\n",
       "      <td>7.096774</td>\n",
       "    </tr>\n",
       "    <tr>\n",
       "      <th>40-49</th>\n",
       "      <th>married</th>\n",
       "      <td>235</td>\n",
       "      <td>3295</td>\n",
       "      <td>7.132018</td>\n",
       "    </tr>\n",
       "    <tr>\n",
       "      <th>30-39</th>\n",
       "      <th>widow / widower</th>\n",
       "      <td>3</td>\n",
       "      <td>41</td>\n",
       "      <td>7.317073</td>\n",
       "    </tr>\n",
       "    <tr>\n",
       "      <th>50-59</th>\n",
       "      <th>unmarried</th>\n",
       "      <td>31</td>\n",
       "      <td>413</td>\n",
       "      <td>7.506053</td>\n",
       "    </tr>\n",
       "    <tr>\n",
       "      <th>30-39</th>\n",
       "      <th>divorced</th>\n",
       "      <td>20</td>\n",
       "      <td>261</td>\n",
       "      <td>7.662835</td>\n",
       "    </tr>\n",
       "    <tr>\n",
       "      <th>50-59</th>\n",
       "      <th>civil partnership</th>\n",
       "      <td>66</td>\n",
       "      <td>805</td>\n",
       "      <td>8.198758</td>\n",
       "    </tr>\n",
       "    <tr>\n",
       "      <th rowspan=\"3\" valign=\"top\">40-49</th>\n",
       "      <th>widow / widower</th>\n",
       "      <td>12</td>\n",
       "      <td>138</td>\n",
       "      <td>8.695652</td>\n",
       "    </tr>\n",
       "    <tr>\n",
       "      <th>unmarried</th>\n",
       "      <td>47</td>\n",
       "      <td>539</td>\n",
       "      <td>8.719852</td>\n",
       "    </tr>\n",
       "    <tr>\n",
       "      <th>civil partnership</th>\n",
       "      <td>97</td>\n",
       "      <td>1107</td>\n",
       "      <td>8.762421</td>\n",
       "    </tr>\n",
       "    <tr>\n",
       "      <th>30-39</th>\n",
       "      <th>married</th>\n",
       "      <td>308</td>\n",
       "      <td>3493</td>\n",
       "      <td>8.817635</td>\n",
       "    </tr>\n",
       "    <tr>\n",
       "      <th rowspan=\"3\" valign=\"top\">19-29</th>\n",
       "      <th>civil partnership</th>\n",
       "      <td>70</td>\n",
       "      <td>684</td>\n",
       "      <td>10.233918</td>\n",
       "    </tr>\n",
       "    <tr>\n",
       "      <th>married</th>\n",
       "      <td>162</td>\n",
       "      <td>1481</td>\n",
       "      <td>10.938555</td>\n",
       "    </tr>\n",
       "    <tr>\n",
       "      <th>unmarried</th>\n",
       "      <td>103</td>\n",
       "      <td>917</td>\n",
       "      <td>11.232279</td>\n",
       "    </tr>\n",
       "    <tr>\n",
       "      <th rowspan=\"2\" valign=\"top\">30-39</th>\n",
       "      <th>civil partnership</th>\n",
       "      <td>137</td>\n",
       "      <td>1167</td>\n",
       "      <td>11.739503</td>\n",
       "    </tr>\n",
       "    <tr>\n",
       "      <th>unmarried</th>\n",
       "      <td>84</td>\n",
       "      <td>701</td>\n",
       "      <td>11.982882</td>\n",
       "    </tr>\n",
       "    <tr>\n",
       "      <th>19-29</th>\n",
       "      <th>divorced</th>\n",
       "      <td>14</td>\n",
       "      <td>96</td>\n",
       "      <td>14.583333</td>\n",
       "    </tr>\n",
       "  </tbody>\n",
       "</table>\n",
       "</div>"
      ],
      "text/plain": [
       "                             sum count default_rate\n",
       "                            debt  debt             \n",
       "age_group family_status                            \n",
       "19-29     widow / widower      0     2     0.000000\n",
       "60+       unmarried            9   240     3.750000\n",
       "          married             58  1310     4.427481\n",
       "          civil partnership   18   399     4.511278\n",
       "40-49     divorced            21   380     5.526316\n",
       "50-59     widow / widower     21   376     5.585106\n",
       "          married            168  2765     6.075949\n",
       "          divorced            19   303     6.270627\n",
       "60+       widow / widower     27   402     6.716418\n",
       "          divorced            11   155     7.096774\n",
       "40-49     married            235  3295     7.132018\n",
       "30-39     widow / widower      3    41     7.317073\n",
       "50-59     unmarried           31   413     7.506053\n",
       "30-39     divorced            20   261     7.662835\n",
       "50-59     civil partnership   66   805     8.198758\n",
       "40-49     widow / widower     12   138     8.695652\n",
       "          unmarried           47   539     8.719852\n",
       "          civil partnership   97  1107     8.762421\n",
       "30-39     married            308  3493     8.817635\n",
       "19-29     civil partnership   70   684    10.233918\n",
       "          married            162  1481    10.938555\n",
       "          unmarried          103   917    11.232279\n",
       "30-39     civil partnership  137  1167    11.739503\n",
       "          unmarried           84   701    11.982882\n",
       "19-29     divorced            14    96    14.583333"
      ]
     },
     "execution_count": 18,
     "metadata": {},
     "output_type": "execute_result"
    }
   ],
   "source": [
    "family_age_group=pd.pivot_table(scoring, index=['age_group', 'family_status'],\n",
    "                             values='debt', aggfunc=['sum', 'count'])\n",
    "family_age_group['default_rate']=(family_age_group['sum']/family_age_group['count'])*100\n",
    "family_age_group.sort_values('default_rate')"
   ]
  },
  {
   "cell_type": "markdown",
   "metadata": {},
   "source": [
    "### Conclusion"
   ]
  },
  {
   "cell_type": "markdown",
   "metadata": {},
   "source": [
    "The lowest default rates are among widowers and the highest among unmarried persons (with civil partnership status next). \n",
    "\n",
    "This observation leads me to a question if there is any correlation between age and default rate. And indeed, the highest default rates are among people younger than 30 and the lowest in the 60+ cohort.\n",
    "\n",
    "Let's try to group our data by family status and age. We see that the most unreliable are divorced people in their 20s (constantly changing their mind on everything?), then unmarried and in civil partnership people 30-39 y.o. and then all other in 19-29. They all have default rates of more than 10%.\n",
    "For married people in their 30s and not married people in their 40s (widowers, unmarried, c/p), we have rated between 8.7-8.8%. Next, we have 50-59 y.o. c/p with the rate of 8.2%. All other groups are following."
   ]
  },
  {
   "cell_type": "code",
   "execution_count": 19,
   "metadata": {},
   "outputs": [
    {
     "data": {
      "text/html": [
       "<div>\n",
       "<style scoped>\n",
       "    .dataframe tbody tr th:only-of-type {\n",
       "        vertical-align: middle;\n",
       "    }\n",
       "\n",
       "    .dataframe tbody tr th {\n",
       "        vertical-align: top;\n",
       "    }\n",
       "\n",
       "    .dataframe thead tr th {\n",
       "        text-align: left;\n",
       "    }\n",
       "\n",
       "    .dataframe thead tr:last-of-type th {\n",
       "        text-align: right;\n",
       "    }\n",
       "</style>\n",
       "<table border=\"1\" class=\"dataframe\">\n",
       "  <thead>\n",
       "    <tr>\n",
       "      <th></th>\n",
       "      <th colspan=\"5\" halign=\"left\">mean</th>\n",
       "    </tr>\n",
       "    <tr>\n",
       "      <th></th>\n",
       "      <th colspan=\"5\" halign=\"left\">debt</th>\n",
       "    </tr>\n",
       "    <tr>\n",
       "      <th>age_group</th>\n",
       "      <th>19-29</th>\n",
       "      <th>30-39</th>\n",
       "      <th>40-49</th>\n",
       "      <th>50-59</th>\n",
       "      <th>60+</th>\n",
       "    </tr>\n",
       "    <tr>\n",
       "      <th>family_status</th>\n",
       "      <th></th>\n",
       "      <th></th>\n",
       "      <th></th>\n",
       "      <th></th>\n",
       "      <th></th>\n",
       "    </tr>\n",
       "  </thead>\n",
       "  <tbody>\n",
       "    <tr>\n",
       "      <th>civil partnership</th>\n",
       "      <td>0.102339</td>\n",
       "      <td>0.117395</td>\n",
       "      <td>0.087624</td>\n",
       "      <td>0.081988</td>\n",
       "      <td>0.045113</td>\n",
       "    </tr>\n",
       "    <tr>\n",
       "      <th>divorced</th>\n",
       "      <td>0.145833</td>\n",
       "      <td>0.076628</td>\n",
       "      <td>0.055263</td>\n",
       "      <td>0.062706</td>\n",
       "      <td>0.070968</td>\n",
       "    </tr>\n",
       "    <tr>\n",
       "      <th>married</th>\n",
       "      <td>0.109386</td>\n",
       "      <td>0.088176</td>\n",
       "      <td>0.071320</td>\n",
       "      <td>0.060759</td>\n",
       "      <td>0.044275</td>\n",
       "    </tr>\n",
       "    <tr>\n",
       "      <th>unmarried</th>\n",
       "      <td>0.112323</td>\n",
       "      <td>0.119829</td>\n",
       "      <td>0.087199</td>\n",
       "      <td>0.075061</td>\n",
       "      <td>0.037500</td>\n",
       "    </tr>\n",
       "    <tr>\n",
       "      <th>widow / widower</th>\n",
       "      <td>0.000000</td>\n",
       "      <td>0.073171</td>\n",
       "      <td>0.086957</td>\n",
       "      <td>0.055851</td>\n",
       "      <td>0.067164</td>\n",
       "    </tr>\n",
       "  </tbody>\n",
       "</table>\n",
       "</div>"
      ],
      "text/plain": [
       "                       mean                                        \n",
       "                       debt                                        \n",
       "age_group             19-29     30-39     40-49     50-59       60+\n",
       "family_status                                                      \n",
       "civil partnership  0.102339  0.117395  0.087624  0.081988  0.045113\n",
       "divorced           0.145833  0.076628  0.055263  0.062706  0.070968\n",
       "married            0.109386  0.088176  0.071320  0.060759  0.044275\n",
       "unmarried          0.112323  0.119829  0.087199  0.075061  0.037500\n",
       "widow / widower    0.000000  0.073171  0.086957  0.055851  0.067164"
      ]
     },
     "execution_count": 19,
     "metadata": {},
     "output_type": "execute_result"
    }
   ],
   "source": [
    "pd.pivot_table(scoring,index=['family_status'],values=['debt'], columns=['age_group'], aggfunc=['mean'])"
   ]
  },
  {
   "cell_type": "markdown",
   "metadata": {},
   "source": [
    "### Is there a relation between income level and repaying a loan on time?"
   ]
  },
  {
   "cell_type": "code",
   "execution_count": 20,
   "metadata": {},
   "outputs": [
    {
     "data": {
      "text/html": [
       "<div>\n",
       "<style scoped>\n",
       "    .dataframe tbody tr th:only-of-type {\n",
       "        vertical-align: middle;\n",
       "    }\n",
       "\n",
       "    .dataframe tbody tr th {\n",
       "        vertical-align: top;\n",
       "    }\n",
       "\n",
       "    .dataframe thead tr th {\n",
       "        text-align: left;\n",
       "    }\n",
       "\n",
       "    .dataframe thead tr:last-of-type th {\n",
       "        text-align: right;\n",
       "    }\n",
       "</style>\n",
       "<table border=\"1\" class=\"dataframe\">\n",
       "  <thead>\n",
       "    <tr>\n",
       "      <th></th>\n",
       "      <th>sum</th>\n",
       "      <th>count</th>\n",
       "      <th>default_rate</th>\n",
       "    </tr>\n",
       "    <tr>\n",
       "      <th></th>\n",
       "      <th>debt</th>\n",
       "      <th>debt</th>\n",
       "      <th></th>\n",
       "    </tr>\n",
       "    <tr>\n",
       "      <th>income_level</th>\n",
       "      <th></th>\n",
       "      <th></th>\n",
       "      <th></th>\n",
       "    </tr>\n",
       "  </thead>\n",
       "  <tbody>\n",
       "    <tr>\n",
       "      <th>hight</th>\n",
       "      <td>374</td>\n",
       "      <td>5368</td>\n",
       "      <td>6.967213</td>\n",
       "    </tr>\n",
       "    <tr>\n",
       "      <th>low</th>\n",
       "      <td>427</td>\n",
       "      <td>5368</td>\n",
       "      <td>7.954545</td>\n",
       "    </tr>\n",
       "    <tr>\n",
       "      <th>high medium</th>\n",
       "      <td>456</td>\n",
       "      <td>5367</td>\n",
       "      <td>8.496367</td>\n",
       "    </tr>\n",
       "    <tr>\n",
       "      <th>low medium</th>\n",
       "      <td>484</td>\n",
       "      <td>5367</td>\n",
       "      <td>9.018073</td>\n",
       "    </tr>\n",
       "  </tbody>\n",
       "</table>\n",
       "</div>"
      ],
      "text/plain": [
       "              sum count default_rate\n",
       "             debt  debt             \n",
       "income_level                        \n",
       "hight         374  5368     6.967213\n",
       "low           427  5368     7.954545\n",
       "high medium   456  5367     8.496367\n",
       "low medium    484  5367     9.018073"
      ]
     },
     "execution_count": 20,
     "metadata": {},
     "output_type": "execute_result"
    }
   ],
   "source": [
    "income_level=pd.pivot_table(scoring, index='income_level', \n",
    "                             values='debt', aggfunc=['sum', 'count'])\n",
    "income_level['default_rate']=(income_level['sum']/income_level['count'])*100\n",
    "income_level.sort_values('default_rate')"
   ]
  },
  {
   "cell_type": "markdown",
   "metadata": {},
   "source": [
    "### Conclusion"
   ]
  },
  {
   "cell_type": "markdown",
   "metadata": {},
   "source": [
    "The top 25% of incomes have the lowest default rates. Other than that, there is no correlation between income level and repaying a loan. (I also tried to split incomes into 10 and 15 equal baskets, but it showed nothing.) "
   ]
  },
  {
   "cell_type": "markdown",
   "metadata": {},
   "source": [
    "### How do different loan purposes affect on-time repayment of the loan?"
   ]
  },
  {
   "cell_type": "code",
   "execution_count": 21,
   "metadata": {},
   "outputs": [
    {
     "data": {
      "text/html": [
       "<div>\n",
       "<style scoped>\n",
       "    .dataframe tbody tr th:only-of-type {\n",
       "        vertical-align: middle;\n",
       "    }\n",
       "\n",
       "    .dataframe tbody tr th {\n",
       "        vertical-align: top;\n",
       "    }\n",
       "\n",
       "    .dataframe thead tr th {\n",
       "        text-align: left;\n",
       "    }\n",
       "\n",
       "    .dataframe thead tr:last-of-type th {\n",
       "        text-align: right;\n",
       "    }\n",
       "</style>\n",
       "<table border=\"1\" class=\"dataframe\">\n",
       "  <thead>\n",
       "    <tr>\n",
       "      <th></th>\n",
       "      <th>sum</th>\n",
       "      <th>count</th>\n",
       "      <th>default_rate</th>\n",
       "    </tr>\n",
       "    <tr>\n",
       "      <th></th>\n",
       "      <th>debt</th>\n",
       "      <th>debt</th>\n",
       "      <th></th>\n",
       "    </tr>\n",
       "    <tr>\n",
       "      <th>purpose_cleaned</th>\n",
       "      <th></th>\n",
       "      <th></th>\n",
       "      <th></th>\n",
       "    </tr>\n",
       "  </thead>\n",
       "  <tbody>\n",
       "    <tr>\n",
       "      <th>property</th>\n",
       "      <td>782</td>\n",
       "      <td>10813</td>\n",
       "      <td>7.232036</td>\n",
       "    </tr>\n",
       "    <tr>\n",
       "      <th>wedding</th>\n",
       "      <td>186</td>\n",
       "      <td>2335</td>\n",
       "      <td>7.965739</td>\n",
       "    </tr>\n",
       "    <tr>\n",
       "      <th>education</th>\n",
       "      <td>370</td>\n",
       "      <td>4014</td>\n",
       "      <td>9.217738</td>\n",
       "    </tr>\n",
       "    <tr>\n",
       "      <th>car</th>\n",
       "      <td>403</td>\n",
       "      <td>4308</td>\n",
       "      <td>9.354689</td>\n",
       "    </tr>\n",
       "  </tbody>\n",
       "</table>\n",
       "</div>"
      ],
      "text/plain": [
       "                 sum  count default_rate\n",
       "                debt   debt             \n",
       "purpose_cleaned                         \n",
       "property         782  10813     7.232036\n",
       "wedding          186   2335     7.965739\n",
       "education        370   4014     9.217738\n",
       "car              403   4308     9.354689"
      ]
     },
     "execution_count": 21,
     "metadata": {},
     "output_type": "execute_result"
    }
   ],
   "source": [
    "purpose_cleaned=pd.pivot_table(scoring, index='purpose_cleaned', \n",
    "                             values='debt', aggfunc=['sum', 'count'])\n",
    "purpose_cleaned['default_rate']=(purpose_cleaned['sum']/purpose_cleaned['count'])*100\n",
    "purpose_cleaned.sort_values('default_rate')"
   ]
  },
  {
   "cell_type": "markdown",
   "metadata": {},
   "source": [
    "### Conclusion"
   ]
  },
  {
   "cell_type": "markdown",
   "metadata": {},
   "source": [
    "The safest loan purposes are related to the property (7.2% default rate). And the riskiest ones are buying a car (9.3%) and education (9.2%)"
   ]
  },
  {
   "cell_type": "markdown",
   "metadata": {},
   "source": [
    "## General conclusion"
   ]
  },
  {
   "cell_type": "markdown",
   "metadata": {},
   "source": [
    "We have some data about past loans. We could use it to determine if a customer's marital status and number of children impact whether they will default on a loan. \n",
    "\n",
    "From these data, we don't see that customers' marital status influences whether they will repay. Instead, we could make predictions based on a person's age (The older is the customer, the safer is the loan). \n",
    "\n",
    "Also, having any number of children negatively affects the chance of default.\n",
    "\n",
    "There is no correlation between income and the chance of repaying.\n",
    "\n",
    "We could make predictions based on the purpose of the loan. For example, all purposes related to real estate are safe while getting an education or buying a car are the riskiest."
   ]
  }
 ],
 "metadata": {
  "ExecuteTimeLog": [
   {
    "duration": 1158,
    "start_time": "2021-10-10T11:23:02.583Z"
   },
   {
    "duration": 93,
    "start_time": "2021-10-10T11:23:14.940Z"
   },
   {
    "duration": 862,
    "start_time": "2021-10-11T07:12:57.685Z"
   },
   {
    "duration": 12,
    "start_time": "2021-10-11T07:21:00.726Z"
   },
   {
    "duration": 431,
    "start_time": "2021-10-11T07:21:27.049Z"
   },
   {
    "duration": 7,
    "start_time": "2021-10-11T07:21:33.243Z"
   },
   {
    "duration": 20,
    "start_time": "2021-10-11T07:21:41.123Z"
   },
   {
    "duration": 34,
    "start_time": "2021-10-11T07:21:57.250Z"
   },
   {
    "duration": 389,
    "start_time": "2021-10-11T07:24:50.366Z"
   },
   {
    "duration": 12,
    "start_time": "2021-10-11T07:24:57.568Z"
   },
   {
    "duration": 19,
    "start_time": "2021-10-11T07:25:28.954Z"
   },
   {
    "duration": 8,
    "start_time": "2021-10-11T07:27:26.074Z"
   },
   {
    "duration": 37,
    "start_time": "2021-10-11T07:29:49.559Z"
   },
   {
    "duration": 7,
    "start_time": "2021-10-11T07:31:51.913Z"
   },
   {
    "duration": 10,
    "start_time": "2021-10-11T07:32:27.592Z"
   },
   {
    "duration": 11,
    "start_time": "2021-10-11T07:32:41.208Z"
   },
   {
    "duration": 10,
    "start_time": "2021-10-11T07:32:45.978Z"
   },
   {
    "duration": 8,
    "start_time": "2021-10-11T07:33:02.623Z"
   },
   {
    "duration": 6,
    "start_time": "2021-10-11T07:34:40.211Z"
   },
   {
    "duration": 7,
    "start_time": "2021-10-11T07:34:46.006Z"
   },
   {
    "duration": 6,
    "start_time": "2021-10-11T07:35:39.529Z"
   },
   {
    "duration": 6,
    "start_time": "2021-10-11T07:36:11.335Z"
   },
   {
    "duration": 5,
    "start_time": "2021-10-11T07:38:16.335Z"
   },
   {
    "duration": 5,
    "start_time": "2021-10-11T07:38:27.033Z"
   },
   {
    "duration": 16,
    "start_time": "2021-10-11T07:41:16.741Z"
   },
   {
    "duration": 15,
    "start_time": "2021-10-11T07:42:05.837Z"
   },
   {
    "duration": 11,
    "start_time": "2021-10-11T07:45:23.800Z"
   },
   {
    "duration": 78,
    "start_time": "2021-10-11T07:45:34.471Z"
   },
   {
    "duration": 36,
    "start_time": "2021-10-11T07:45:43.148Z"
   },
   {
    "duration": 15,
    "start_time": "2021-10-11T07:46:16.678Z"
   },
   {
    "duration": 80,
    "start_time": "2021-10-11T07:46:27.859Z"
   },
   {
    "duration": 16,
    "start_time": "2021-10-11T07:46:36.466Z"
   },
   {
    "duration": 9,
    "start_time": "2021-10-11T07:48:31.856Z"
   },
   {
    "duration": 9,
    "start_time": "2021-10-11T07:50:15.538Z"
   },
   {
    "duration": 10,
    "start_time": "2021-10-11T07:50:56.695Z"
   },
   {
    "duration": 9,
    "start_time": "2021-10-11T07:51:09.239Z"
   },
   {
    "duration": 14,
    "start_time": "2021-10-11T07:51:39.642Z"
   },
   {
    "duration": 9,
    "start_time": "2021-10-11T07:55:37.215Z"
   },
   {
    "duration": 8,
    "start_time": "2021-10-11T07:55:43.465Z"
   },
   {
    "duration": 33,
    "start_time": "2021-10-11T07:57:23.550Z"
   },
   {
    "duration": 10,
    "start_time": "2021-10-11T08:37:18.799Z"
   },
   {
    "duration": 8,
    "start_time": "2021-10-11T08:38:25.559Z"
   },
   {
    "duration": 10,
    "start_time": "2021-10-11T08:38:55.865Z"
   },
   {
    "duration": 9,
    "start_time": "2021-10-11T08:39:29.775Z"
   },
   {
    "duration": 10,
    "start_time": "2021-10-11T08:39:59.722Z"
   },
   {
    "duration": 19,
    "start_time": "2021-10-11T08:40:18.503Z"
   },
   {
    "duration": 12,
    "start_time": "2021-10-11T09:07:54.794Z"
   },
   {
    "duration": 336,
    "start_time": "2021-10-11T09:21:53.368Z"
   },
   {
    "duration": 2528,
    "start_time": "2021-10-11T09:28:13.260Z"
   },
   {
    "duration": 17,
    "start_time": "2021-10-11T09:28:35.208Z"
   },
   {
    "duration": 12,
    "start_time": "2021-10-11T09:28:49.303Z"
   },
   {
    "duration": 13,
    "start_time": "2021-10-11T09:28:53.730Z"
   },
   {
    "duration": 32,
    "start_time": "2021-10-11T09:28:57.973Z"
   },
   {
    "duration": 13,
    "start_time": "2021-10-11T09:29:03.247Z"
   },
   {
    "duration": 10,
    "start_time": "2021-10-11T09:29:43.824Z"
   },
   {
    "duration": 10,
    "start_time": "2021-10-11T09:31:13.299Z"
   },
   {
    "duration": 9,
    "start_time": "2021-10-11T09:33:23.530Z"
   },
   {
    "duration": 11,
    "start_time": "2021-10-11T09:33:26.131Z"
   },
   {
    "duration": 76,
    "start_time": "2021-10-11T09:35:28.888Z"
   },
   {
    "duration": 323,
    "start_time": "2021-10-11T09:35:32.159Z"
   },
   {
    "duration": 21,
    "start_time": "2021-10-11T09:35:36.751Z"
   },
   {
    "duration": 23,
    "start_time": "2021-10-11T09:35:44.882Z"
   },
   {
    "duration": 32,
    "start_time": "2021-10-11T09:36:16.053Z"
   },
   {
    "duration": 49,
    "start_time": "2021-10-11T09:36:21.226Z"
   },
   {
    "duration": 62,
    "start_time": "2021-10-11T09:36:52.352Z"
   },
   {
    "duration": 20,
    "start_time": "2021-10-11T09:36:52.418Z"
   },
   {
    "duration": 49,
    "start_time": "2021-10-11T09:37:04.940Z"
   },
   {
    "duration": 22,
    "start_time": "2021-10-11T09:39:21.264Z"
   },
   {
    "duration": 37,
    "start_time": "2021-10-11T09:40:02.496Z"
   },
   {
    "duration": 178,
    "start_time": "2021-10-11T09:41:31.914Z"
   },
   {
    "duration": 36,
    "start_time": "2021-10-11T09:41:35.305Z"
   },
   {
    "duration": 24,
    "start_time": "2021-10-11T09:47:04.840Z"
   },
   {
    "duration": 54,
    "start_time": "2021-10-11T09:47:36.091Z"
   },
   {
    "duration": 54,
    "start_time": "2021-10-11T09:48:23.364Z"
   },
   {
    "duration": 22,
    "start_time": "2021-10-11T09:52:15.122Z"
   },
   {
    "duration": 12,
    "start_time": "2021-10-11T09:54:54.477Z"
   },
   {
    "duration": 10,
    "start_time": "2021-10-11T09:54:58.511Z"
   },
   {
    "duration": 12,
    "start_time": "2021-10-11T09:55:01.850Z"
   },
   {
    "duration": 23,
    "start_time": "2021-10-11T09:55:32.811Z"
   },
   {
    "duration": 292,
    "start_time": "2021-10-11T10:05:26.448Z"
   },
   {
    "duration": 11,
    "start_time": "2021-10-11T10:05:41.862Z"
   },
   {
    "duration": 9,
    "start_time": "2021-10-11T10:06:09.314Z"
   },
   {
    "duration": 298,
    "start_time": "2021-10-11T10:07:09.206Z"
   },
   {
    "duration": 19,
    "start_time": "2021-10-11T10:07:13.128Z"
   },
   {
    "duration": 12,
    "start_time": "2021-10-11T10:07:23.717Z"
   },
   {
    "duration": 36,
    "start_time": "2021-10-11T10:07:33.248Z"
   },
   {
    "duration": 9,
    "start_time": "2021-10-11T10:08:03.263Z"
   },
   {
    "duration": 19,
    "start_time": "2021-10-11T10:08:05.464Z"
   },
   {
    "duration": 100,
    "start_time": "2021-10-11T10:08:48.483Z"
   },
   {
    "duration": 155,
    "start_time": "2021-10-11T10:08:54.104Z"
   },
   {
    "duration": 20,
    "start_time": "2021-10-11T10:09:00.502Z"
   },
   {
    "duration": 9,
    "start_time": "2021-10-11T10:10:54.054Z"
   },
   {
    "duration": 9,
    "start_time": "2021-10-11T10:11:00.889Z"
   },
   {
    "duration": 105,
    "start_time": "2021-10-11T10:11:23.514Z"
   },
   {
    "duration": 10,
    "start_time": "2021-10-11T10:11:31.523Z"
   },
   {
    "duration": 10,
    "start_time": "2021-10-11T10:11:44.216Z"
   },
   {
    "duration": 11,
    "start_time": "2021-10-11T10:15:09.401Z"
   },
   {
    "duration": 12,
    "start_time": "2021-10-11T10:17:01.771Z"
   },
   {
    "duration": 162,
    "start_time": "2021-10-11T10:28:26.509Z"
   },
   {
    "duration": 376,
    "start_time": "2021-10-11T10:28:30.367Z"
   },
   {
    "duration": 13,
    "start_time": "2021-10-11T10:28:40.382Z"
   },
   {
    "duration": 13,
    "start_time": "2021-10-11T10:29:16.805Z"
   },
   {
    "duration": 38,
    "start_time": "2021-10-11T10:30:04.235Z"
   },
   {
    "duration": 35,
    "start_time": "2021-10-11T10:30:13.973Z"
   },
   {
    "duration": 34,
    "start_time": "2021-10-11T10:30:16.870Z"
   },
   {
    "duration": 35,
    "start_time": "2021-10-11T10:30:18.861Z"
   },
   {
    "duration": 34,
    "start_time": "2021-10-11T10:30:22.054Z"
   },
   {
    "duration": 9,
    "start_time": "2021-10-11T11:02:19.035Z"
   },
   {
    "duration": 12,
    "start_time": "2021-10-11T11:02:25.676Z"
   },
   {
    "duration": 63,
    "start_time": "2021-10-11T11:02:29.536Z"
   },
   {
    "duration": 18,
    "start_time": "2021-10-11T11:02:29.601Z"
   },
   {
    "duration": 16,
    "start_time": "2021-10-11T11:02:29.622Z"
   },
   {
    "duration": 15,
    "start_time": "2021-10-11T11:02:31.478Z"
   },
   {
    "duration": 12,
    "start_time": "2021-10-11T11:03:06.843Z"
   },
   {
    "duration": 331,
    "start_time": "2021-10-11T11:03:18.615Z"
   },
   {
    "duration": 11,
    "start_time": "2021-10-11T11:03:24.612Z"
   },
   {
    "duration": 13,
    "start_time": "2021-10-11T11:04:21.142Z"
   },
   {
    "duration": 12,
    "start_time": "2021-10-11T11:04:55.455Z"
   },
   {
    "duration": 19,
    "start_time": "2021-10-11T11:07:41.898Z"
   },
   {
    "duration": 12,
    "start_time": "2021-10-11T11:12:09.407Z"
   },
   {
    "duration": 306,
    "start_time": "2021-10-11T11:12:54.646Z"
   },
   {
    "duration": 33,
    "start_time": "2021-10-11T11:12:57.264Z"
   },
   {
    "duration": 11,
    "start_time": "2021-10-11T11:13:23.709Z"
   },
   {
    "duration": 11,
    "start_time": "2021-10-11T11:13:45.602Z"
   },
   {
    "duration": 35,
    "start_time": "2021-10-11T11:14:23.668Z"
   },
   {
    "duration": 21,
    "start_time": "2021-10-11T11:15:08.423Z"
   },
   {
    "duration": 10,
    "start_time": "2021-10-11T11:15:35.388Z"
   },
   {
    "duration": 19,
    "start_time": "2021-10-11T11:16:49.767Z"
   },
   {
    "duration": 12,
    "start_time": "2021-10-11T11:19:48.230Z"
   },
   {
    "duration": 2587,
    "start_time": "2021-10-11T11:29:32.460Z"
   },
   {
    "duration": 16,
    "start_time": "2021-10-11T11:33:06.907Z"
   },
   {
    "duration": 39,
    "start_time": "2021-10-11T11:33:30.120Z"
   },
   {
    "duration": 40,
    "start_time": "2021-10-11T11:33:34.151Z"
   },
   {
    "duration": 23,
    "start_time": "2021-10-11T12:31:17.754Z"
   },
   {
    "duration": 8,
    "start_time": "2021-10-11T12:44:39.524Z"
   },
   {
    "duration": 96,
    "start_time": "2021-10-11T12:45:28.094Z"
   },
   {
    "duration": 12,
    "start_time": "2021-10-11T12:45:33.153Z"
   },
   {
    "duration": 421,
    "start_time": "2021-10-11T12:45:59.412Z"
   },
   {
    "duration": 16,
    "start_time": "2021-10-11T12:46:02.852Z"
   },
   {
    "duration": 35,
    "start_time": "2021-10-11T12:52:55.525Z"
   },
   {
    "duration": 34,
    "start_time": "2021-10-11T12:53:07.083Z"
   },
   {
    "duration": 40,
    "start_time": "2021-10-11T12:53:18.560Z"
   },
   {
    "duration": 165,
    "start_time": "2021-10-11T12:54:21.908Z"
   },
   {
    "duration": 125,
    "start_time": "2021-10-11T12:55:52.084Z"
   },
   {
    "duration": 116,
    "start_time": "2021-10-11T12:59:10.187Z"
   },
   {
    "duration": 42,
    "start_time": "2021-10-11T13:00:17.460Z"
   },
   {
    "duration": 36,
    "start_time": "2021-10-11T13:00:40.410Z"
   },
   {
    "duration": 11,
    "start_time": "2021-10-11T13:01:35.279Z"
   },
   {
    "duration": 12,
    "start_time": "2021-10-11T13:01:43.090Z"
   },
   {
    "duration": 113,
    "start_time": "2021-10-11T13:03:40.764Z"
   },
   {
    "duration": 330,
    "start_time": "2021-10-11T13:04:15.608Z"
   },
   {
    "duration": 70,
    "start_time": "2021-10-11T13:10:27.436Z"
   },
   {
    "duration": 19,
    "start_time": "2021-10-11T13:10:27.509Z"
   },
   {
    "duration": 13,
    "start_time": "2021-10-11T13:10:27.530Z"
   },
   {
    "duration": 38,
    "start_time": "2021-10-11T13:10:27.545Z"
   },
   {
    "duration": 22,
    "start_time": "2021-10-11T13:10:27.587Z"
   },
   {
    "duration": 24,
    "start_time": "2021-10-11T13:10:27.611Z"
   },
   {
    "duration": 351,
    "start_time": "2021-10-11T13:10:35.488Z"
   },
   {
    "duration": 115,
    "start_time": "2021-10-11T13:11:09.684Z"
   },
   {
    "duration": 62,
    "start_time": "2021-10-11T13:14:04.277Z"
   },
   {
    "duration": 19,
    "start_time": "2021-10-11T13:14:04.341Z"
   },
   {
    "duration": 29,
    "start_time": "2021-10-11T13:14:04.362Z"
   },
   {
    "duration": 10,
    "start_time": "2021-10-11T13:14:04.394Z"
   },
   {
    "duration": 19,
    "start_time": "2021-10-11T13:14:04.407Z"
   },
   {
    "duration": 19,
    "start_time": "2021-10-11T13:14:04.429Z"
   },
   {
    "duration": 102,
    "start_time": "2021-10-11T13:14:06.245Z"
   },
   {
    "duration": 22,
    "start_time": "2021-10-11T13:14:21.571Z"
   },
   {
    "duration": 8,
    "start_time": "2021-10-11T13:14:52.525Z"
   },
   {
    "duration": 13,
    "start_time": "2021-10-11T13:14:59.637Z"
   },
   {
    "duration": 64,
    "start_time": "2021-10-11T13:18:57.473Z"
   },
   {
    "duration": 19,
    "start_time": "2021-10-11T13:18:57.540Z"
   },
   {
    "duration": 28,
    "start_time": "2021-10-11T13:18:57.562Z"
   },
   {
    "duration": 29,
    "start_time": "2021-10-11T13:18:57.593Z"
   },
   {
    "duration": 541,
    "start_time": "2021-10-11T13:19:00.094Z"
   },
   {
    "duration": 499,
    "start_time": "2021-10-11T13:19:16.567Z"
   },
   {
    "duration": 32,
    "start_time": "2021-10-11T13:19:24.734Z"
   },
   {
    "duration": 68,
    "start_time": "2021-10-11T13:20:16.137Z"
   },
   {
    "duration": 19,
    "start_time": "2021-10-11T13:20:16.209Z"
   },
   {
    "duration": 17,
    "start_time": "2021-10-11T13:20:16.231Z"
   },
   {
    "duration": 38,
    "start_time": "2021-10-11T13:20:16.251Z"
   },
   {
    "duration": 30,
    "start_time": "2021-10-11T13:20:19.120Z"
   },
   {
    "duration": 13,
    "start_time": "2021-10-11T13:21:23.066Z"
   },
   {
    "duration": 15,
    "start_time": "2021-10-11T13:21:43.961Z"
   },
   {
    "duration": 25,
    "start_time": "2021-10-11T13:22:21.886Z"
   },
   {
    "duration": 30,
    "start_time": "2021-10-11T13:24:56.748Z"
   },
   {
    "duration": 83,
    "start_time": "2021-10-11T13:28:37.031Z"
   },
   {
    "duration": 28,
    "start_time": "2021-10-11T13:29:35.522Z"
   },
   {
    "duration": 8,
    "start_time": "2021-10-11T13:29:43.109Z"
   },
   {
    "duration": 12,
    "start_time": "2021-10-11T13:29:46.029Z"
   },
   {
    "duration": 23,
    "start_time": "2021-10-11T13:29:54.639Z"
   },
   {
    "duration": 8,
    "start_time": "2021-10-11T13:31:43.928Z"
   },
   {
    "duration": 112,
    "start_time": "2021-10-11T13:31:48.850Z"
   },
   {
    "duration": 13,
    "start_time": "2021-10-11T13:31:52.479Z"
   },
   {
    "duration": 14,
    "start_time": "2021-10-11T13:34:09.708Z"
   },
   {
    "duration": 29,
    "start_time": "2021-10-11T13:35:27.719Z"
   },
   {
    "duration": 24,
    "start_time": "2021-10-11T13:36:11.785Z"
   },
   {
    "duration": 427,
    "start_time": "2021-10-11T13:40:59.720Z"
   },
   {
    "duration": 10,
    "start_time": "2021-10-11T13:42:02.514Z"
   },
   {
    "duration": 69,
    "start_time": "2021-10-11T13:42:29.989Z"
   },
   {
    "duration": 36,
    "start_time": "2021-10-11T13:42:30.061Z"
   },
   {
    "duration": 60,
    "start_time": "2021-10-11T13:42:30.101Z"
   },
   {
    "duration": 63,
    "start_time": "2021-10-11T13:42:30.164Z"
   },
   {
    "duration": 11,
    "start_time": "2021-10-11T13:42:30.229Z"
   },
   {
    "duration": 30,
    "start_time": "2021-10-11T13:42:30.243Z"
   },
   {
    "duration": 20,
    "start_time": "2021-10-11T13:42:36.066Z"
   },
   {
    "duration": 10,
    "start_time": "2021-10-11T13:42:39.007Z"
   },
   {
    "duration": 6,
    "start_time": "2021-10-11T13:42:51.378Z"
   },
   {
    "duration": 27,
    "start_time": "2021-10-11T13:43:09.837Z"
   },
   {
    "duration": 10,
    "start_time": "2021-10-11T13:43:13.685Z"
   },
   {
    "duration": 41,
    "start_time": "2021-10-11T13:44:06.775Z"
   },
   {
    "duration": 5412,
    "start_time": "2021-10-11T13:47:42.744Z"
   },
   {
    "duration": 54,
    "start_time": "2021-10-11T13:47:48.414Z"
   },
   {
    "duration": 31,
    "start_time": "2021-10-11T13:51:09.344Z"
   },
   {
    "duration": 36,
    "start_time": "2021-10-11T13:52:40.077Z"
   },
   {
    "duration": 35,
    "start_time": "2021-10-11T13:53:29.159Z"
   },
   {
    "duration": 48,
    "start_time": "2021-10-11T13:53:37.448Z"
   },
   {
    "duration": 30,
    "start_time": "2021-10-11T13:53:52.854Z"
   },
   {
    "duration": 81,
    "start_time": "2021-10-11T13:53:59.287Z"
   },
   {
    "duration": 39,
    "start_time": "2021-10-11T13:54:42.063Z"
   },
   {
    "duration": 20,
    "start_time": "2021-10-11T13:55:06.399Z"
   },
   {
    "duration": 5,
    "start_time": "2021-10-11T13:55:31.553Z"
   },
   {
    "duration": 17,
    "start_time": "2021-10-11T13:55:37.746Z"
   },
   {
    "duration": 67,
    "start_time": "2021-10-11T13:55:57.360Z"
   },
   {
    "duration": 104,
    "start_time": "2021-10-11T13:57:20.667Z"
   },
   {
    "duration": 31,
    "start_time": "2021-10-11T13:57:20.774Z"
   },
   {
    "duration": 16,
    "start_time": "2021-10-11T13:57:20.809Z"
   },
   {
    "duration": 38,
    "start_time": "2021-10-11T13:57:20.828Z"
   },
   {
    "duration": 22,
    "start_time": "2021-10-11T13:57:20.868Z"
   },
   {
    "duration": 18,
    "start_time": "2021-10-11T13:57:20.893Z"
   },
   {
    "duration": 29,
    "start_time": "2021-10-11T13:57:20.913Z"
   },
   {
    "duration": 16,
    "start_time": "2021-10-11T13:57:23.415Z"
   },
   {
    "duration": 25,
    "start_time": "2021-10-11T13:57:49.171Z"
   },
   {
    "duration": 34,
    "start_time": "2021-10-11T13:58:00.489Z"
   },
   {
    "duration": 7,
    "start_time": "2021-10-11T13:58:34.359Z"
   },
   {
    "duration": 17,
    "start_time": "2021-10-11T14:08:20.409Z"
   },
   {
    "duration": 71,
    "start_time": "2021-10-11T14:08:29.838Z"
   },
   {
    "duration": 17,
    "start_time": "2021-10-11T14:08:32.038Z"
   },
   {
    "duration": 62,
    "start_time": "2021-10-11T14:10:29.810Z"
   },
   {
    "duration": 25,
    "start_time": "2021-10-11T14:10:29.875Z"
   },
   {
    "duration": 16,
    "start_time": "2021-10-11T14:10:29.907Z"
   },
   {
    "duration": 28,
    "start_time": "2021-10-11T14:10:29.927Z"
   },
   {
    "duration": 33,
    "start_time": "2021-10-11T14:10:29.957Z"
   },
   {
    "duration": 19,
    "start_time": "2021-10-11T14:10:29.993Z"
   },
   {
    "duration": 47,
    "start_time": "2021-10-11T14:10:30.015Z"
   },
   {
    "duration": 7,
    "start_time": "2021-10-11T14:10:32.039Z"
   },
   {
    "duration": 29,
    "start_time": "2021-10-11T14:13:59.881Z"
   },
   {
    "duration": 48,
    "start_time": "2021-10-11T14:16:35.607Z"
   },
   {
    "duration": 660,
    "start_time": "2021-10-12T08:59:02.659Z"
   },
   {
    "duration": 77,
    "start_time": "2021-10-12T08:59:07.843Z"
   },
   {
    "duration": 11,
    "start_time": "2021-10-12T08:59:26.591Z"
   },
   {
    "duration": 8,
    "start_time": "2021-10-12T09:00:51.968Z"
   },
   {
    "duration": 10,
    "start_time": "2021-10-12T09:22:45.858Z"
   },
   {
    "duration": 2,
    "start_time": "2021-10-12T09:22:58.257Z"
   },
   {
    "duration": 7,
    "start_time": "2021-10-12T09:23:00.856Z"
   },
   {
    "duration": 12,
    "start_time": "2021-10-12T09:23:01.942Z"
   },
   {
    "duration": 9,
    "start_time": "2021-10-12T09:23:04.966Z"
   },
   {
    "duration": 25,
    "start_time": "2021-10-12T09:23:20.169Z"
   },
   {
    "duration": 5,
    "start_time": "2021-10-12T09:23:50.740Z"
   },
   {
    "duration": 8,
    "start_time": "2021-10-12T09:24:05.853Z"
   },
   {
    "duration": 5,
    "start_time": "2021-10-12T09:24:10.079Z"
   },
   {
    "duration": 13,
    "start_time": "2021-10-12T09:24:43.646Z"
   },
   {
    "duration": 53,
    "start_time": "2021-10-12T09:25:01.339Z"
   },
   {
    "duration": 31,
    "start_time": "2021-10-12T09:25:01.395Z"
   },
   {
    "duration": 30,
    "start_time": "2021-10-12T09:25:01.428Z"
   },
   {
    "duration": 10,
    "start_time": "2021-10-12T09:25:01.461Z"
   },
   {
    "duration": 21,
    "start_time": "2021-10-12T09:25:01.472Z"
   },
   {
    "duration": 13,
    "start_time": "2021-10-12T09:25:01.495Z"
   },
   {
    "duration": 20,
    "start_time": "2021-10-12T09:25:01.509Z"
   },
   {
    "duration": 16,
    "start_time": "2021-10-12T09:25:01.530Z"
   },
   {
    "duration": 18,
    "start_time": "2021-10-12T09:25:01.549Z"
   },
   {
    "duration": 14,
    "start_time": "2021-10-12T09:25:04.556Z"
   },
   {
    "duration": 8,
    "start_time": "2021-10-12T09:25:52.598Z"
   },
   {
    "duration": 303,
    "start_time": "2021-10-12T09:52:05.630Z"
   },
   {
    "duration": 5,
    "start_time": "2021-10-12T09:52:11.317Z"
   },
   {
    "duration": 250,
    "start_time": "2021-10-12T10:05:36.155Z"
   },
   {
    "duration": 12,
    "start_time": "2021-10-12T10:05:38.396Z"
   },
   {
    "duration": 5,
    "start_time": "2021-10-12T10:05:44.827Z"
   },
   {
    "duration": 11,
    "start_time": "2021-10-12T10:05:46.191Z"
   },
   {
    "duration": 16,
    "start_time": "2021-10-12T10:08:01.728Z"
   },
   {
    "duration": 7,
    "start_time": "2021-10-12T11:25:22.859Z"
   },
   {
    "duration": 13,
    "start_time": "2021-10-12T11:26:29.789Z"
   },
   {
    "duration": 6,
    "start_time": "2021-10-12T11:26:46.196Z"
   },
   {
    "duration": 24,
    "start_time": "2021-10-12T11:27:55.472Z"
   },
   {
    "duration": 23,
    "start_time": "2021-10-12T11:28:19.324Z"
   },
   {
    "duration": 12,
    "start_time": "2021-10-12T11:29:04.278Z"
   },
   {
    "duration": 9,
    "start_time": "2021-10-12T11:29:06.875Z"
   },
   {
    "duration": 7,
    "start_time": "2021-10-12T11:29:15.040Z"
   },
   {
    "duration": 9,
    "start_time": "2021-10-12T11:29:26.865Z"
   },
   {
    "duration": 9,
    "start_time": "2021-10-12T11:31:13.118Z"
   },
   {
    "duration": 9,
    "start_time": "2021-10-12T11:31:48.846Z"
   },
   {
    "duration": 9,
    "start_time": "2021-10-12T11:35:18.674Z"
   },
   {
    "duration": 66,
    "start_time": "2021-10-12T11:55:57.269Z"
   },
   {
    "duration": 918,
    "start_time": "2021-10-12T11:56:18.201Z"
   },
   {
    "duration": 2465,
    "start_time": "2021-10-12T11:56:45.661Z"
   },
   {
    "duration": -209,
    "start_time": "2021-10-12T11:56:48.337Z"
   },
   {
    "duration": 1703,
    "start_time": "2021-10-12T11:57:15.518Z"
   },
   {
    "duration": 8,
    "start_time": "2021-10-12T11:57:49.531Z"
   },
   {
    "duration": 6,
    "start_time": "2021-10-12T11:58:16.787Z"
   },
   {
    "duration": 37,
    "start_time": "2021-10-12T12:14:43.626Z"
   },
   {
    "duration": 37,
    "start_time": "2021-10-12T12:21:07.916Z"
   },
   {
    "duration": 214,
    "start_time": "2021-10-12T12:22:09.259Z"
   },
   {
    "duration": 20,
    "start_time": "2021-10-12T12:22:15.186Z"
   },
   {
    "duration": 36,
    "start_time": "2021-10-12T12:22:26.136Z"
   },
   {
    "duration": 19,
    "start_time": "2021-10-12T12:22:53.743Z"
   },
   {
    "duration": 20,
    "start_time": "2021-10-12T12:29:04.762Z"
   },
   {
    "duration": 55,
    "start_time": "2021-10-12T12:30:46.090Z"
   },
   {
    "duration": 33,
    "start_time": "2021-10-12T12:30:46.147Z"
   },
   {
    "duration": 12,
    "start_time": "2021-10-12T12:30:46.183Z"
   },
   {
    "duration": 11,
    "start_time": "2021-10-12T12:30:46.197Z"
   },
   {
    "duration": 16,
    "start_time": "2021-10-12T12:30:46.210Z"
   },
   {
    "duration": 21,
    "start_time": "2021-10-12T12:30:46.228Z"
   },
   {
    "duration": 15,
    "start_time": "2021-10-12T12:30:46.251Z"
   },
   {
    "duration": 10,
    "start_time": "2021-10-12T12:30:46.268Z"
   },
   {
    "duration": 8,
    "start_time": "2021-10-12T12:30:46.280Z"
   },
   {
    "duration": 4,
    "start_time": "2021-10-12T12:30:46.290Z"
   },
   {
    "duration": 22,
    "start_time": "2021-10-12T12:30:46.296Z"
   },
   {
    "duration": 31,
    "start_time": "2021-10-12T12:30:46.320Z"
   },
   {
    "duration": 1718,
    "start_time": "2021-10-12T12:30:46.353Z"
   },
   {
    "duration": 38,
    "start_time": "2021-10-12T12:31:56.210Z"
   },
   {
    "duration": 14,
    "start_time": "2021-10-12T12:32:23.612Z"
   },
   {
    "duration": 7,
    "start_time": "2021-10-12T12:33:32.999Z"
   },
   {
    "duration": 76,
    "start_time": "2021-10-12T12:33:56.950Z"
   },
   {
    "duration": 15,
    "start_time": "2021-10-12T12:34:01.910Z"
   },
   {
    "duration": 66,
    "start_time": "2021-10-12T12:51:06.899Z"
   },
   {
    "duration": 16,
    "start_time": "2021-10-12T12:51:11.158Z"
   },
   {
    "duration": 46,
    "start_time": "2021-10-12T12:51:49.401Z"
   },
   {
    "duration": 68,
    "start_time": "2021-10-12T13:01:10.587Z"
   },
   {
    "duration": 48,
    "start_time": "2021-10-12T13:01:10.657Z"
   },
   {
    "duration": 18,
    "start_time": "2021-10-12T13:01:10.708Z"
   },
   {
    "duration": 30,
    "start_time": "2021-10-12T13:01:10.729Z"
   },
   {
    "duration": 3,
    "start_time": "2021-10-12T13:01:10.762Z"
   },
   {
    "duration": 12,
    "start_time": "2021-10-12T13:01:10.767Z"
   },
   {
    "duration": 14,
    "start_time": "2021-10-12T13:01:10.781Z"
   },
   {
    "duration": 11,
    "start_time": "2021-10-12T13:01:10.797Z"
   },
   {
    "duration": 38,
    "start_time": "2021-10-12T13:01:10.811Z"
   },
   {
    "duration": 24,
    "start_time": "2021-10-12T13:01:10.852Z"
   },
   {
    "duration": 13,
    "start_time": "2021-10-12T13:01:10.878Z"
   },
   {
    "duration": 2261,
    "start_time": "2021-10-12T13:01:10.893Z"
   },
   {
    "duration": 56,
    "start_time": "2021-10-12T13:01:13.157Z"
   },
   {
    "duration": 13,
    "start_time": "2021-10-12T13:01:29.108Z"
   },
   {
    "duration": 37,
    "start_time": "2021-10-12T13:18:21.760Z"
   },
   {
    "duration": 14,
    "start_time": "2021-10-12T13:18:25.359Z"
   },
   {
    "duration": 51,
    "start_time": "2021-10-12T13:18:51.870Z"
   },
   {
    "duration": 303,
    "start_time": "2021-10-12T13:23:00.403Z"
   },
   {
    "duration": 44,
    "start_time": "2021-10-12T13:23:32.109Z"
   },
   {
    "duration": 39,
    "start_time": "2021-10-12T13:24:57.944Z"
   },
   {
    "duration": 212,
    "start_time": "2021-10-12T13:25:34.497Z"
   },
   {
    "duration": 41,
    "start_time": "2021-10-12T13:25:42.018Z"
   },
   {
    "duration": 227,
    "start_time": "2021-10-12T13:27:52.435Z"
   },
   {
    "duration": 221,
    "start_time": "2021-10-12T13:28:19.476Z"
   },
   {
    "duration": 19,
    "start_time": "2021-10-12T13:29:54.754Z"
   },
   {
    "duration": 64,
    "start_time": "2021-10-12T13:30:08.794Z"
   },
   {
    "duration": 73,
    "start_time": "2021-10-12T13:30:29.600Z"
   },
   {
    "duration": 5859,
    "start_time": "2021-10-12T13:34:57.862Z"
   },
   {
    "duration": 10,
    "start_time": "2021-10-12T13:36:53.315Z"
   },
   {
    "duration": 11,
    "start_time": "2021-10-12T13:37:07.529Z"
   },
   {
    "duration": 10,
    "start_time": "2021-10-12T13:38:32.005Z"
   },
   {
    "duration": 10,
    "start_time": "2021-10-12T13:38:53.235Z"
   },
   {
    "duration": 14,
    "start_time": "2021-10-12T13:39:14.489Z"
   },
   {
    "duration": 37,
    "start_time": "2021-10-12T13:44:30.383Z"
   },
   {
    "duration": 575,
    "start_time": "2021-10-12T13:44:48.845Z"
   },
   {
    "duration": 40,
    "start_time": "2021-10-12T13:44:57.968Z"
   },
   {
    "duration": 40,
    "start_time": "2021-10-12T13:45:44.307Z"
   },
   {
    "duration": 42,
    "start_time": "2021-10-12T13:46:33.823Z"
   },
   {
    "duration": 41,
    "start_time": "2021-10-12T13:46:54.071Z"
   },
   {
    "duration": 27,
    "start_time": "2021-10-12T13:47:55.628Z"
   },
   {
    "duration": 30,
    "start_time": "2021-10-12T13:52:22.040Z"
   },
   {
    "duration": 28,
    "start_time": "2021-10-12T13:53:38.523Z"
   },
   {
    "duration": 29,
    "start_time": "2021-10-12T13:53:56.126Z"
   },
   {
    "duration": 34,
    "start_time": "2021-10-12T14:14:37.636Z"
   },
   {
    "duration": 48,
    "start_time": "2021-10-12T14:20:21.832Z"
   },
   {
    "duration": 11,
    "start_time": "2021-10-12T14:31:55.073Z"
   },
   {
    "duration": 33,
    "start_time": "2021-10-12T14:32:00.489Z"
   },
   {
    "duration": 9,
    "start_time": "2021-10-12T14:33:02.114Z"
   },
   {
    "duration": 27,
    "start_time": "2021-10-12T14:33:07.162Z"
   },
   {
    "duration": 8,
    "start_time": "2021-10-12T14:34:15.380Z"
   },
   {
    "duration": 29,
    "start_time": "2021-10-12T14:34:19.614Z"
   },
   {
    "duration": 8,
    "start_time": "2021-10-12T14:34:59.776Z"
   },
   {
    "duration": 28,
    "start_time": "2021-10-12T14:35:06.391Z"
   },
   {
    "duration": 638,
    "start_time": "2021-10-12T15:17:49.855Z"
   },
   {
    "duration": 38,
    "start_time": "2021-10-12T15:17:50.496Z"
   },
   {
    "duration": 15,
    "start_time": "2021-10-12T15:17:50.537Z"
   },
   {
    "duration": 11,
    "start_time": "2021-10-12T15:17:50.554Z"
   },
   {
    "duration": 5,
    "start_time": "2021-10-12T15:17:50.567Z"
   },
   {
    "duration": 17,
    "start_time": "2021-10-12T15:17:50.573Z"
   },
   {
    "duration": 11,
    "start_time": "2021-10-12T15:17:50.592Z"
   },
   {
    "duration": 8,
    "start_time": "2021-10-12T15:17:50.606Z"
   },
   {
    "duration": 5,
    "start_time": "2021-10-12T15:17:50.617Z"
   },
   {
    "duration": 19,
    "start_time": "2021-10-12T15:17:50.648Z"
   },
   {
    "duration": 11,
    "start_time": "2021-10-12T15:17:50.669Z"
   },
   {
    "duration": 3583,
    "start_time": "2021-10-12T15:17:50.682Z"
   },
   {
    "duration": 9,
    "start_time": "2021-10-12T15:17:54.267Z"
   },
   {
    "duration": 34,
    "start_time": "2021-10-12T15:17:54.277Z"
   },
   {
    "duration": 45,
    "start_time": "2021-10-12T15:17:54.312Z"
   },
   {
    "duration": 42,
    "start_time": "2021-10-12T15:17:54.359Z"
   },
   {
    "duration": 49,
    "start_time": "2021-10-12T15:17:54.402Z"
   },
   {
    "duration": 29,
    "start_time": "2021-10-12T15:17:54.453Z"
   },
   {
    "duration": 4,
    "start_time": "2021-10-13T05:35:02.156Z"
   },
   {
    "duration": 817,
    "start_time": "2021-10-13T11:18:07.581Z"
   },
   {
    "duration": 56,
    "start_time": "2021-10-13T11:18:08.401Z"
   },
   {
    "duration": 38,
    "start_time": "2021-10-13T11:18:08.464Z"
   },
   {
    "duration": 12,
    "start_time": "2021-10-13T11:18:08.504Z"
   },
   {
    "duration": 12,
    "start_time": "2021-10-13T11:18:08.518Z"
   },
   {
    "duration": 22,
    "start_time": "2021-10-13T11:18:08.532Z"
   },
   {
    "duration": 17,
    "start_time": "2021-10-13T11:18:08.557Z"
   },
   {
    "duration": 31,
    "start_time": "2021-10-13T11:18:08.576Z"
   },
   {
    "duration": 25,
    "start_time": "2021-10-13T11:18:08.609Z"
   },
   {
    "duration": 49,
    "start_time": "2021-10-13T11:18:08.636Z"
   },
   {
    "duration": 13,
    "start_time": "2021-10-13T11:18:08.688Z"
   },
   {
    "duration": 6234,
    "start_time": "2021-10-13T11:18:08.704Z"
   },
   {
    "duration": 11,
    "start_time": "2021-10-13T11:18:14.940Z"
   },
   {
    "duration": 65,
    "start_time": "2021-10-13T11:18:14.953Z"
   },
   {
    "duration": 48,
    "start_time": "2021-10-13T11:18:15.020Z"
   },
   {
    "duration": 80,
    "start_time": "2021-10-13T11:18:15.071Z"
   },
   {
    "duration": 64,
    "start_time": "2021-10-13T11:18:15.154Z"
   },
   {
    "duration": 42,
    "start_time": "2021-10-13T11:18:15.220Z"
   },
   {
    "duration": 817,
    "start_time": "2021-10-13T12:14:49.996Z"
   },
   {
    "duration": 57,
    "start_time": "2021-10-13T12:14:50.816Z"
   },
   {
    "duration": 34,
    "start_time": "2021-10-13T12:14:50.876Z"
   },
   {
    "duration": 20,
    "start_time": "2021-10-13T12:14:50.913Z"
   },
   {
    "duration": 9,
    "start_time": "2021-10-13T12:14:50.935Z"
   },
   {
    "duration": 13,
    "start_time": "2021-10-13T12:14:50.946Z"
   },
   {
    "duration": 22,
    "start_time": "2021-10-13T12:14:50.961Z"
   },
   {
    "duration": 10,
    "start_time": "2021-10-13T12:14:51.000Z"
   },
   {
    "duration": 5,
    "start_time": "2021-10-13T12:14:51.014Z"
   },
   {
    "duration": 38,
    "start_time": "2021-10-13T12:14:51.022Z"
   },
   {
    "duration": 13,
    "start_time": "2021-10-13T12:14:51.062Z"
   },
   {
    "duration": 6420,
    "start_time": "2021-10-13T12:14:51.078Z"
   },
   {
    "duration": 11,
    "start_time": "2021-10-13T12:14:57.500Z"
   },
   {
    "duration": 47,
    "start_time": "2021-10-13T12:14:57.513Z"
   },
   {
    "duration": 67,
    "start_time": "2021-10-13T12:14:57.562Z"
   },
   {
    "duration": 56,
    "start_time": "2021-10-13T12:14:57.631Z"
   },
   {
    "duration": 44,
    "start_time": "2021-10-13T12:14:57.701Z"
   },
   {
    "duration": 59,
    "start_time": "2021-10-13T12:14:57.748Z"
   },
   {
    "duration": 90,
    "start_time": "2021-10-14T06:47:56.636Z"
   },
   {
    "duration": 1536,
    "start_time": "2021-10-14T06:49:13.106Z"
   },
   {
    "duration": 66,
    "start_time": "2021-10-14T06:49:40.870Z"
   },
   {
    "duration": 57,
    "start_time": "2021-10-14T06:49:46.532Z"
   },
   {
    "duration": 18,
    "start_time": "2021-10-14T06:49:49.475Z"
   },
   {
    "duration": 395,
    "start_time": "2021-10-14T06:49:55.563Z"
   },
   {
    "duration": 13,
    "start_time": "2021-10-14T06:50:01.033Z"
   },
   {
    "duration": 64,
    "start_time": "2021-10-14T06:53:00.099Z"
   },
   {
    "duration": 65,
    "start_time": "2021-10-14T06:53:23.311Z"
   },
   {
    "duration": 17,
    "start_time": "2021-10-14T06:53:31.510Z"
   },
   {
    "duration": 47,
    "start_time": "2021-10-14T07:12:45.607Z"
   },
   {
    "duration": 17,
    "start_time": "2021-10-14T07:12:48.121Z"
   },
   {
    "duration": 3,
    "start_time": "2021-10-14T07:16:22.292Z"
   },
   {
    "duration": 67,
    "start_time": "2021-10-14T07:16:22.298Z"
   },
   {
    "duration": 54,
    "start_time": "2021-10-14T07:16:22.368Z"
   },
   {
    "duration": 17,
    "start_time": "2021-10-14T07:16:22.424Z"
   },
   {
    "duration": 15,
    "start_time": "2021-10-14T07:16:25.900Z"
   },
   {
    "duration": 4,
    "start_time": "2021-10-14T07:16:36.767Z"
   },
   {
    "duration": 67,
    "start_time": "2021-10-14T07:16:36.773Z"
   },
   {
    "duration": 47,
    "start_time": "2021-10-14T07:16:36.842Z"
   },
   {
    "duration": 33,
    "start_time": "2021-10-14T07:16:36.891Z"
   },
   {
    "duration": 15,
    "start_time": "2021-10-14T07:16:38.977Z"
   },
   {
    "duration": 3,
    "start_time": "2021-10-14T07:16:50.868Z"
   },
   {
    "duration": 97,
    "start_time": "2021-10-14T07:16:50.874Z"
   },
   {
    "duration": 54,
    "start_time": "2021-10-14T07:16:50.973Z"
   },
   {
    "duration": 17,
    "start_time": "2021-10-14T07:16:51.029Z"
   },
   {
    "duration": 16,
    "start_time": "2021-10-14T07:16:53.322Z"
   },
   {
    "duration": 15,
    "start_time": "2021-10-14T07:17:14.422Z"
   },
   {
    "duration": 4,
    "start_time": "2021-10-14T07:17:26.667Z"
   },
   {
    "duration": 83,
    "start_time": "2021-10-14T07:17:26.673Z"
   },
   {
    "duration": 46,
    "start_time": "2021-10-14T07:17:26.758Z"
   },
   {
    "duration": 25,
    "start_time": "2021-10-14T07:17:26.806Z"
   },
   {
    "duration": 15,
    "start_time": "2021-10-14T07:17:28.707Z"
   },
   {
    "duration": 4,
    "start_time": "2021-10-14T07:17:43.904Z"
   },
   {
    "duration": 128,
    "start_time": "2021-10-14T07:17:43.910Z"
   },
   {
    "duration": 47,
    "start_time": "2021-10-14T07:17:44.041Z"
   },
   {
    "duration": 38,
    "start_time": "2021-10-14T07:17:44.091Z"
   },
   {
    "duration": 16,
    "start_time": "2021-10-14T07:17:46.119Z"
   },
   {
    "duration": 11,
    "start_time": "2021-10-14T07:19:26.070Z"
   },
   {
    "duration": 18,
    "start_time": "2021-10-14T07:24:05.441Z"
   },
   {
    "duration": 9,
    "start_time": "2021-10-14T07:24:14.101Z"
   },
   {
    "duration": 22,
    "start_time": "2021-10-14T07:24:28.539Z"
   },
   {
    "duration": 13,
    "start_time": "2021-10-14T07:24:35.975Z"
   },
   {
    "duration": 13,
    "start_time": "2021-10-14T07:26:17.037Z"
   },
   {
    "duration": 292,
    "start_time": "2021-10-14T07:40:40.694Z"
   },
   {
    "duration": 40,
    "start_time": "2021-10-14T07:40:47.444Z"
   },
   {
    "duration": 26,
    "start_time": "2021-10-14T07:43:50.264Z"
   },
   {
    "duration": 122,
    "start_time": "2021-10-14T08:41:50.375Z"
   },
   {
    "duration": 4,
    "start_time": "2021-10-14T08:42:02.847Z"
   },
   {
    "duration": 98,
    "start_time": "2021-10-14T08:42:02.854Z"
   },
   {
    "duration": 44,
    "start_time": "2021-10-14T08:42:02.955Z"
   },
   {
    "duration": 34,
    "start_time": "2021-10-14T08:42:03.002Z"
   },
   {
    "duration": 22,
    "start_time": "2021-10-14T08:42:03.039Z"
   },
   {
    "duration": 29,
    "start_time": "2021-10-14T08:42:03.063Z"
   },
   {
    "duration": 22,
    "start_time": "2021-10-14T08:42:03.096Z"
   },
   {
    "duration": 28,
    "start_time": "2021-10-14T08:42:03.120Z"
   },
   {
    "duration": 21,
    "start_time": "2021-10-14T08:42:03.151Z"
   },
   {
    "duration": 17,
    "start_time": "2021-10-14T08:42:03.175Z"
   },
   {
    "duration": 63,
    "start_time": "2021-10-14T08:42:03.195Z"
   },
   {
    "duration": 15,
    "start_time": "2021-10-14T08:42:03.260Z"
   },
   {
    "duration": 5367,
    "start_time": "2021-10-14T08:42:03.278Z"
   },
   {
    "duration": 10,
    "start_time": "2021-10-14T08:42:08.648Z"
   },
   {
    "duration": 62,
    "start_time": "2021-10-14T08:42:08.661Z"
   },
   {
    "duration": 39,
    "start_time": "2021-10-14T08:42:08.726Z"
   },
   {
    "duration": 73,
    "start_time": "2021-10-14T08:42:08.767Z"
   },
   {
    "duration": 53,
    "start_time": "2021-10-14T08:43:09.846Z"
   },
   {
    "duration": 53,
    "start_time": "2021-10-14T08:43:57.445Z"
   },
   {
    "duration": 53,
    "start_time": "2021-10-14T08:45:20.126Z"
   },
   {
    "duration": 54,
    "start_time": "2021-10-14T08:48:38.286Z"
   },
   {
    "duration": 7960,
    "start_time": "2021-10-14T08:52:48.852Z"
   },
   {
    "duration": 55,
    "start_time": "2021-10-14T08:53:30.103Z"
   },
   {
    "duration": 51,
    "start_time": "2021-10-14T08:54:05.415Z"
   },
   {
    "duration": 52,
    "start_time": "2021-10-14T08:54:44.518Z"
   },
   {
    "duration": 7692,
    "start_time": "2021-10-14T08:55:53.753Z"
   },
   {
    "duration": 50,
    "start_time": "2021-10-14T08:56:18.742Z"
   },
   {
    "duration": 52,
    "start_time": "2021-10-14T08:57:21.068Z"
   },
   {
    "duration": 337,
    "start_time": "2021-10-14T09:15:04.291Z"
   },
   {
    "duration": 295,
    "start_time": "2021-10-14T09:16:38.245Z"
   },
   {
    "duration": 65,
    "start_time": "2021-10-14T09:16:52.082Z"
   },
   {
    "duration": 68,
    "start_time": "2021-10-14T09:17:16.083Z"
   },
   {
    "duration": 87,
    "start_time": "2021-10-14T09:17:40.613Z"
   },
   {
    "duration": 8886,
    "start_time": "2021-10-14T09:17:49.405Z"
   },
   {
    "duration": 61,
    "start_time": "2021-10-14T09:18:48.212Z"
   },
   {
    "duration": 320,
    "start_time": "2021-10-14T09:19:40.372Z"
   },
   {
    "duration": 66,
    "start_time": "2021-10-14T09:19:55.002Z"
   },
   {
    "duration": 302,
    "start_time": "2021-10-14T09:20:13.444Z"
   },
   {
    "duration": 55,
    "start_time": "2021-10-14T09:20:57.927Z"
   },
   {
    "duration": 1555,
    "start_time": "2021-10-14T10:10:12.190Z"
   },
   {
    "duration": 68,
    "start_time": "2021-10-14T10:10:13.748Z"
   },
   {
    "duration": 55,
    "start_time": "2021-10-14T10:10:13.823Z"
   },
   {
    "duration": 18,
    "start_time": "2021-10-14T10:10:13.880Z"
   },
   {
    "duration": 33,
    "start_time": "2021-10-14T10:10:13.900Z"
   },
   {
    "duration": 8,
    "start_time": "2021-10-14T10:10:13.935Z"
   },
   {
    "duration": 12,
    "start_time": "2021-10-14T10:10:13.945Z"
   },
   {
    "duration": 23,
    "start_time": "2021-10-14T10:10:13.961Z"
   },
   {
    "duration": 35,
    "start_time": "2021-10-14T10:10:13.987Z"
   },
   {
    "duration": 6,
    "start_time": "2021-10-14T10:10:14.025Z"
   },
   {
    "duration": 33,
    "start_time": "2021-10-14T10:10:14.034Z"
   },
   {
    "duration": 15,
    "start_time": "2021-10-14T10:10:14.070Z"
   },
   {
    "duration": 5053,
    "start_time": "2021-10-14T10:10:14.088Z"
   },
   {
    "duration": 13,
    "start_time": "2021-10-14T10:10:19.143Z"
   },
   {
    "duration": 65,
    "start_time": "2021-10-14T10:10:19.158Z"
   },
   {
    "duration": 43,
    "start_time": "2021-10-14T10:10:19.227Z"
   },
   {
    "duration": 83,
    "start_time": "2021-10-14T10:10:19.273Z"
   },
   {
    "duration": 70,
    "start_time": "2021-10-14T10:10:19.359Z"
   },
   {
    "duration": 45,
    "start_time": "2021-10-14T10:10:19.432Z"
   },
   {
    "duration": 70,
    "start_time": "2021-10-14T10:10:19.480Z"
   },
   {
    "duration": 1610,
    "start_time": "2021-10-14T17:32:55.222Z"
   },
   {
    "duration": 87,
    "start_time": "2021-10-14T17:32:56.835Z"
   },
   {
    "duration": 58,
    "start_time": "2021-10-14T17:32:56.925Z"
   },
   {
    "duration": 43,
    "start_time": "2021-10-14T17:32:56.985Z"
   },
   {
    "duration": 14,
    "start_time": "2021-10-14T17:32:57.031Z"
   },
   {
    "duration": 7,
    "start_time": "2021-10-14T17:32:57.047Z"
   },
   {
    "duration": 13,
    "start_time": "2021-10-14T17:32:57.057Z"
   },
   {
    "duration": 23,
    "start_time": "2021-10-14T17:32:57.075Z"
   },
   {
    "duration": 15,
    "start_time": "2021-10-14T17:32:57.122Z"
   },
   {
    "duration": 7,
    "start_time": "2021-10-14T17:32:57.140Z"
   },
   {
    "duration": 36,
    "start_time": "2021-10-14T17:32:57.150Z"
   },
   {
    "duration": 44,
    "start_time": "2021-10-14T17:32:57.189Z"
   },
   {
    "duration": 5162,
    "start_time": "2021-10-14T17:32:57.236Z"
   },
   {
    "duration": 22,
    "start_time": "2021-10-14T17:33:02.400Z"
   },
   {
    "duration": 48,
    "start_time": "2021-10-14T17:33:02.425Z"
   },
   {
    "duration": 53,
    "start_time": "2021-10-14T17:33:02.475Z"
   },
   {
    "duration": 52,
    "start_time": "2021-10-14T17:33:02.530Z"
   },
   {
    "duration": 72,
    "start_time": "2021-10-14T17:33:02.585Z"
   },
   {
    "duration": 73,
    "start_time": "2021-10-14T17:33:02.659Z"
   },
   {
    "duration": 48,
    "start_time": "2021-10-14T17:33:02.734Z"
   },
   {
    "duration": 61,
    "start_time": "2021-10-14T17:33:02.785Z"
   },
   {
    "duration": 35,
    "start_time": "2021-10-14T17:33:20.899Z"
   },
   {
    "duration": 54,
    "start_time": "2021-10-14T17:34:24.188Z"
   },
   {
    "duration": 1423,
    "start_time": "2021-10-14T17:34:56.890Z"
   },
   {
    "duration": 36,
    "start_time": "2021-10-14T17:35:09.999Z"
   },
   {
    "duration": 377,
    "start_time": "2021-11-21T12:06:57.800Z"
   },
   {
    "duration": 1193,
    "start_time": "2021-11-21T12:07:04.963Z"
   },
   {
    "duration": 59,
    "start_time": "2021-11-21T12:07:06.158Z"
   },
   {
    "duration": 37,
    "start_time": "2021-11-21T12:07:06.219Z"
   },
   {
    "duration": 11,
    "start_time": "2021-11-21T12:07:06.258Z"
   },
   {
    "duration": 27,
    "start_time": "2021-11-21T12:07:06.271Z"
   },
   {
    "duration": 7,
    "start_time": "2021-11-21T12:07:06.300Z"
   },
   {
    "duration": 40,
    "start_time": "2021-11-21T12:07:06.309Z"
   },
   {
    "duration": 16,
    "start_time": "2021-11-21T12:07:06.352Z"
   },
   {
    "duration": 15,
    "start_time": "2021-11-21T12:07:06.370Z"
   },
   {
    "duration": 12,
    "start_time": "2021-11-21T12:07:06.387Z"
   },
   {
    "duration": 33,
    "start_time": "2021-11-21T12:07:06.401Z"
   },
   {
    "duration": 11,
    "start_time": "2021-11-21T12:07:06.436Z"
   },
   {
    "duration": 3216,
    "start_time": "2021-11-21T12:07:20.377Z"
   }
  ],
  "kernelspec": {
   "display_name": "Python 3 (ipykernel)",
   "language": "python",
   "name": "python3"
  },
  "language_info": {
   "codemirror_mode": {
    "name": "ipython",
    "version": 3
   },
   "file_extension": ".py",
   "mimetype": "text/x-python",
   "name": "python",
   "nbconvert_exporter": "python",
   "pygments_lexer": "ipython3",
   "version": "3.9.14"
  },
  "toc": {
   "base_numbering": 1,
   "nav_menu": {},
   "number_sections": true,
   "sideBar": true,
   "skip_h1_title": true,
   "title_cell": "Table of Contents",
   "title_sidebar": "Contents",
   "toc_cell": false,
   "toc_position": {},
   "toc_section_display": true,
   "toc_window_display": true
  }
 },
 "nbformat": 4,
 "nbformat_minor": 2
}
